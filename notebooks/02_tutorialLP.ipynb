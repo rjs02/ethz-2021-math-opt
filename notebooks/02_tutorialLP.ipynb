{
 "cells": [
  {
   "cell_type": "markdown",
   "metadata": {},
   "source": [
    "# Programming Tutorial Week 2\n",
    "## Solving a Linear Program in Python with PuLP"
   ]
  },
  {
   "cell_type": "markdown",
   "metadata": {},
   "source": [
    "<font color='blue'><b>Goals of this notebook:</b></font>\n",
    "Learn some basic commands to solve an LP with Python.\n",
    "These commands include `LpProblem`, `LpVariable`, and `lpSum`.\n",
    "\n",
    "<font color='blue'><b>Python packages required:</b></font>\n",
    "PuLP\n",
    "\n",
    "<font color='blue'><b>Additional resources:</b></font> \n",
    "For more on PuLP, see https://pypi.org/project/PuLP/#description. See https://coin-or.github.io/pulp/CaseStudies/a_blending_problem.html for additional examples.\n"
   ]
  },
  {
   "cell_type": "markdown",
   "metadata": {
    "slideshow": {
     "slide_type": "-"
    }
   },
   "source": [
    "In its most general form, a linear program looks like\n",
    "\n",
    "$$\n",
    "\\begin{array}{rcl}\n",
    "    \\max & c^\\intercal x\\\\\n",
    "    \\text{s.t.}& Ax &\\le& b\\\\\n",
    "                     & Bx &=& d\\\\\n",
    "                     & Cx &\\ge& f\\\\\n",
    "                     & x & \\in & \\mathbb{R}^n.\n",
    "\\end{array}\n",
    "$$\n",
    "\n",
    "There are three components to an LP: the variables $x$, the objective $\\max ~ c^\\intercal x$, and the constraints $Ax \\le b$, $Bx = d$, and $Cx \\ge f$.\n",
    "In order to code these using Python, we can follow the following six steps:\n",
    "\n",
    "<b>Step 1: Load PuLP.</b> Import Python's toolbox PuLP for solving LPs.\n",
    "\n",
    "<b>Step 2: Create an empty linear program.</b>\n",
    "Intuitively, an empty linear program is Python's version of a sheet of paper on which we write the variables, the objetive, and the constraints.\n",
    "\n",
    "<b>Step 3: Add the variables $x$.</b>\n",
    "We add the three components of an LP (the variable, the objective function, and the constraints) to the empty linear program created in the last step.\n",
    "\n",
    "<b>Step 4: Add the objective function </b> $\\max ~ c^\\intercal x$.\n",
    "\n",
    "<b>Step 5: Add the constraints </b> $Ax \\le b, ~Bx = d$, and $Cx \\ge f$.\n",
    "\n",
    "<b>Step 6: Solve the LP and print the results.</b>\n",
    "\n",
    "The following example will introduce us the basic Python commands needed in <b>Steps 1-6</b>."
   ]
  },
  {
   "cell_type": "markdown",
   "metadata": {},
   "source": [
    "## Example: Alice's Farm\n",
    "Alice wants to build a farm to produce corn. She can spend CHF 1000.\n",
    "It costs Alice CHF 3 to produce one kilogram of corn, and she can sell it for CHF 7.\n",
    "Alice can also buy additional farmland at a cost of CHF 100 per acre, and each acre can only grow 30 kilograms of corn.\n",
    "How many acres and kgs of corn should she buy to maximize profit?\n",
    "\n",
    "Here is a model of Alice's problem.\n",
    "    \n",
    "$$\n",
    "\\begin{array}{rlcl}\n",
    "\\max & 7 \\times (\\text{corn produced})\t\\\\\n",
    "\\text{s.t.} &  \\text{corn produced} &\\le& 30 \\times (\\text{acres purchased})\\\\\n",
    "         & 3 \\times (\\text{corn produced}) + 100 \\times (\\text{acres purchased}) &\\le& 1000\\\\\n",
    "         &0 \\le \\text{corn produced}\\\\\n",
    "         &0 \\le \\text{acres purchased}.\n",
    "\\end{array}\n",
    "$$"
   ]
  },
  {
   "cell_type": "markdown",
   "metadata": {},
   "source": [
    "#### Step 1: Loading PuLP"
   ]
  },
  {
   "cell_type": "markdown",
   "metadata": {},
   "source": [
    "Run the following line of code to import PuLP (you do not need to know how this line of code works). \n",
    "\n",
    "<font color='red'>Note:</font> One way to run the code is to click in the box below and press the 'Run' button. \n",
    "Another way is to click in the box and press 'Shift + Enter'."
   ]
  },
  {
   "cell_type": "code",
   "execution_count": null,
   "metadata": {},
   "outputs": [],
   "source": [
    "# Import the necessary LP toolbox from Python\n",
    "from pulp import *"
   ]
  },
  {
   "cell_type": "markdown",
   "metadata": {},
   "source": [
    "#### Step 2: Creating an empty linear program"
   ]
  },
  {
   "cell_type": "markdown",
   "metadata": {},
   "source": [
    "The function to create an empty linear program is `LpProblem` and it has three parts:\n",
    "   \n",
    "* `\"Alice's Farm\"` - This is the name displayed when we print the linear program. You can choose any name you want. \n",
    "   \n",
    "* `LpMaximize` - This makes the linear program a maximization problem.\n",
    "\n",
    "* `my_LP` - This is the name that code uses to identify our LP. You can choose any name you want. \n",
    "\n",
    "Run the following line of code to create our linear program."
   ]
  },
  {
   "cell_type": "code",
   "execution_count": null,
   "metadata": {},
   "outputs": [],
   "source": [
    "# Create an empty linear program\n",
    "my_LP = LpProblem(\"Alice's_Farm\", LpMaximize)"
   ]
  },
  {
   "cell_type": "markdown",
   "metadata": {},
   "source": [
    "#### Step 3: Adding the variables"
   ]
  },
  {
   "cell_type": "markdown",
   "metadata": {},
   "source": [
    "We need to create two variables: one for the amount of corn produced and one for the number of acres purchased. \n",
    "Consider the variable for the amount of corn produced. \n",
    "The function to create this variable is `LpVariable` and it has three components:\n",
    "\n",
    "* `\"Corn_produced\"` - This is the name displayed when we print the LP. You can choose any name you want. \n",
    "\n",
    "* `\"corn\"` - This is the name that the code uses to identify this variable. You can choose any name you want. \n",
    "\n",
    "* `lowBound = 0` - This guarantees that the variable is lower bounded by 0 (i.e., that is it nonnegative). \n",
    "\n",
    "<font color='red'>Note:</font> The command `lowBound = 0` creates the inequality $\\text{corn} \\ge 0$. \n",
    "Alternatively, we can add this as a constraint in <b>Step 5</b>.\n",
    "However, this type of constraint is so common that PuLP has commands to add it at this step. \n",
    "\n",
    "The `LpVariable` function can also be used to create a variable for the number of acres purchased.\n",
    "\n",
    "Run the following line of code to add our variables."
   ]
  },
  {
   "cell_type": "code",
   "execution_count": null,
   "metadata": {},
   "outputs": [],
   "source": [
    "# Create the variables\n",
    "corn = LpVariable(\"Corn_produced\", lowBound=0)\n",
    "acres = LpVariable(\"Acres_purchased\", lowBound=0)"
   ]
  },
  {
   "cell_type": "markdown",
   "metadata": {},
   "source": [
    "#### Step 4: Adding the objective function"
   ]
  },
  {
   "cell_type": "markdown",
   "metadata": {},
   "source": [
    "In <b>Step 2</b> that we created `my_LP` to be a maximization problem. \n",
    "Therefore, we only need to add the objective function $c^\\intercal x$.\n",
    "The objective function for our problem is $7 \\times \\text{(corn produced)}$.\n",
    "Using our variables from <b>Step 3</b>, the objective function becomes `7*corn`.\n",
    "We use the command `+=` to add this to `my_LP`.\n",
    "\n",
    "\n",
    "Run the following line of code to add this objective to `my_LP`.   \n",
    "    "
   ]
  },
  {
   "cell_type": "code",
   "execution_count": null,
   "metadata": {},
   "outputs": [],
   "source": [
    "# Add the objective function\n",
    "my_LP += 7*corn"
   ]
  },
  {
   "cell_type": "markdown",
   "metadata": {},
   "source": [
    "#### Step 5: Adding the constraints"
   ]
  },
  {
   "cell_type": "markdown",
   "metadata": {},
   "source": [
    "The first constraint is $\\text{corn produced} \\le 30 \\times (\\text{acres purchased})$.\n",
    "Using our variables this becomes `corn <= 30* acres`.\n",
    "We use the command `+=` to add this to `my_LP`.\n",
    "\n",
    "Run the following line of code to create this constraint and add it to the `my_LP`. "
   ]
  },
  {
   "cell_type": "code",
   "execution_count": null,
   "metadata": {},
   "outputs": [],
   "source": [
    "# Add the first constraint\n",
    "my_LP += corn <= 30*acres"
   ]
  },
  {
   "cell_type": "markdown",
   "metadata": {},
   "source": [
    "The second constraint is $3 \\times (\\text{corn produced}) + 100 \\times (\\text{acres purchased}) \\le 1000$.\n",
    "\n",
    "Add this to our LP by running the following line of code."
   ]
  },
  {
   "cell_type": "code",
   "execution_count": null,
   "metadata": {},
   "outputs": [],
   "source": [
    "# Add the second constraint\n",
    "my_LP += 3*corn +100*acres <= 1000"
   ]
  },
  {
   "cell_type": "markdown",
   "metadata": {},
   "source": [
    "#### Step 6: Solving the LP and print the results"
   ]
  },
  {
   "cell_type": "markdown",
   "metadata": {},
   "source": [
    "Now our linear program is completely built!\n",
    "The following line of code will display your linear program so that you may check it."
   ]
  },
  {
   "cell_type": "code",
   "execution_count": null,
   "metadata": {},
   "outputs": [],
   "source": [
    "# Display our linear program\n",
    "print(my_LP)"
   ]
  },
  {
   "cell_type": "markdown",
   "metadata": {},
   "source": [
    "<font color = 'red'>Note:</font> After running the `print(my_LP)` command, the variables displayed will not explicitly state that the variables are lower bounded by zero.\n",
    "Also, the variables will be displayed as `Continuous`. This can be ignored for now, but we will return to this when we consider discrete decision problems.\n",
    "\n",
    "The following lines of code solves our linear program."
   ]
  },
  {
   "cell_type": "code",
   "execution_count": null,
   "metadata": {},
   "outputs": [],
   "source": [
    "# Solve the linear program\n",
    "my_LP.solve()"
   ]
  },
  {
   "cell_type": "markdown",
   "metadata": {},
   "source": [
    "If everything went well, then the output should be `1`. \n",
    "This does not mean that the solution to `my_LP` equals 1, but rather the purpose of this output is just to tell us that everything went ok. \n",
    "However, we (Alice and us) would like to know the optimal objective value and the optimal values of `corn` and `acres`.\n",
    "\n",
    "<font color='red'>Note : </font> The possible output values are `-3,-2,-1,0` or `1`, indicating e.g. if the problem was solved to optimality (`0`), found to be infeasible (`-1`) or unbounded (`-2`). \n",
    "You my check the documentation for details:\n",
    "https://coin-or.github.io/pulp/technical/constants.html?highlight=constants#pulp.constants.LpStatus.\n",
    "\n",
    "\n",
    "The optimal value of `corn` can be accessed using `corn.value()`.\n",
    "Similarly, the optimal value of `acres` can be accessed using `acres.value()`.\n",
    "The optimal objective value from `my_LP` is accessed using `value(my_LP.objective)`.\n",
    "\n",
    "<font color='red'>Note : </font>\n",
    "The character `%.2f` is a formatting tool for rounding a decimal to two places.\n",
    "It is not important for this tutorial to know how this formatting works.\n",
    "For more see https://docs.python.org/2/library/string.html. \n",
    "\n",
    "Run the following line of code to display the optimal values from `my_LP`. "
   ]
  },
  {
   "cell_type": "code",
   "execution_count": null,
   "metadata": {},
   "outputs": [],
   "source": [
    "# Print the optimal value and the variables values\n",
    "\n",
    "opt_corn = corn.value()\n",
    "print(f'Alice should produce {opt_corn:.2f} kilograms of corn.')\n",
    "\n",
    "opt_acres = acres.value()\n",
    "print(f'Alice should purchase {opt_acres:.2f} acres of land.')\n",
    "\n",
    "opt_val = value(my_LP.objective)\n",
    "print(f'Alice will have a profit of CHF {opt_val:.2f}.')"
   ]
  },
  {
   "cell_type": "markdown",
   "metadata": {},
   "source": [
    "Congratulations! We have successfully solved our first LP. If everything was run correctly, then the output should be\n",
    "\n",
    "    Alice should produce 157.89 kilograms of corn.\n",
    "    Alice should purchase 5.26 acres of land.\n",
    "    Alice will have a profit of CHF 1105.26."
   ]
  },
  {
   "cell_type": "markdown",
   "metadata": {},
   "source": [
    "#### Conclusions"
   ]
  },
  {
   "cell_type": "markdown",
   "metadata": {},
   "source": [
    "There are six main steps to solving a linear program. \n",
    "Moreover, the basic commands that we learned are already enough to solve many optimization problems. See https://coin-or.github.io/pulp/CaseStudies/a_blending_problem.html for another example."
   ]
  },
  {
   "cell_type": "code",
   "execution_count": null,
   "metadata": {},
   "outputs": [],
   "source": []
  }
 ],
 "metadata": {
  "celltoolbar": "Raw Cell Format",
  "kernelspec": {
   "display_name": "Python 3",
   "language": "python",
   "name": "python3"
  },
  "language_info": {
   "codemirror_mode": {
    "name": "ipython",
    "version": 3
   },
   "file_extension": ".py",
   "mimetype": "text/x-python",
   "name": "python",
   "nbconvert_exporter": "python",
   "pygments_lexer": "ipython3",
   "version": "3.8.5"
  }
 },
 "nbformat": 4,
 "nbformat_minor": 4
}
