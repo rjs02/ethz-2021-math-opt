{
 "cells": [
  {
   "cell_type": "markdown",
   "source": [
    "# Programming Exercise Week 2\n",
    "\n",
    "Now that you know the ABCs of using PuLP to solve linear programs, try it with the following two problems you have seen in the exercise class last week to practice even more.\n",
    "\n",
    "<font color='blue'><b>Goals of this notebook:</b></font>\n",
    "\n",
    "1. Work with a basic LP in PuLP: create a model, modify it, determine if it is feasible.\n",
    "1. Plot the feasible region of an LP using `matplotlib`."
   ],
   "metadata": {}
  },
  {
   "cell_type": "markdown",
   "source": [
    "## Exercise 1: The Easternmost Point of the House\n",
    "\n",
    "In problem set 1 exercise 2, we saw the optimization problem involving a house and a lodge. The goal was to minimize the Euclidean distance between them. However, that problem is **NOT** a linear program. Can you identify the nonlinear part in the solution of this exercise?\n",
    "\n",
    "We thus change the program to find the easternmost (rightmost) point in the house, which is a linear problem. Here is the model of our problem:\n",
    "\n",
    "$$\n",
    "\\begin{array}{rlcl}\n",
    "\\text{maximize:} & x\t\\\\\n",
    "\\text{subject to:} & 2x+5y &\\leq& 54, \\\\\n",
    "                   & 8x+y  &\\geq& 26,\\\\\n",
    "                   & y     &\\geq& 2,\\\\\n",
    "                   & 2x+y  &\\leq& 22.\n",
    "\\end{array}\n",
    "$$\n",
    "\n",
    "Let's do it using PuLP following the steps in the introductory notebook. As this is your first time using PuLP, we have created a skeleton of the code for you. You only need to fill in the blanks marked with `'???'`."
   ],
   "metadata": {}
  },
  {
   "cell_type": "markdown",
   "source": [
    "### Task 1: Write a linear program to represent the problem above."
   ],
   "metadata": {}
  },
  {
   "cell_type": "markdown",
   "source": [
    "#### Step 1: Importing PuLP"
   ],
   "metadata": {}
  },
  {
   "cell_type": "code",
   "execution_count": 1,
   "source": [
    "# Import PuLP\r\n",
    "from pulp import *"
   ],
   "outputs": [],
   "metadata": {}
  },
  {
   "cell_type": "markdown",
   "source": [
    "#### Step 2: Creating an empty linear program"
   ],
   "metadata": {}
  },
  {
   "cell_type": "code",
   "execution_count": 3,
   "source": [
    "# Create an empty linear program\r\n",
    "my_LP = LpProblem(\"Easternmost_point_of_the_house\", LpMaximize)"
   ],
   "outputs": [],
   "metadata": {}
  },
  {
   "cell_type": "markdown",
   "source": [
    "#### Step 3: Adding the variables\n",
    "In this problem, we wish to represent the feasible region of the house. A natural way to do so is to assign two variables for the two coordinates of the x-y plane."
   ],
   "metadata": {}
  },
  {
   "cell_type": "code",
   "execution_count": 4,
   "source": [
    "# x: x-coordinate; y: y-coordinate\r\n",
    "x = LpVariable(\"x-component\", lowBound=0)\r\n",
    "y = LpVariable(\"y-component\", lowBound=0)"
   ],
   "outputs": [],
   "metadata": {}
  },
  {
   "cell_type": "markdown",
   "source": [
    "#### Step 4: Adding the objective function"
   ],
   "metadata": {}
  },
  {
   "cell_type": "code",
   "execution_count": 5,
   "source": [
    "# Find the right-most point of the house\r\n",
    "my_LP += x"
   ],
   "outputs": [],
   "metadata": {}
  },
  {
   "cell_type": "markdown",
   "source": [
    "#### Step 5: Adding the constraints\n",
    "We want the feasible region of the linear program to represent the house. So what should the constraints be?"
   ],
   "metadata": {}
  },
  {
   "cell_type": "code",
   "execution_count": 6,
   "source": [
    "# Add each of the four walls of the house as a separate constraint\r\n",
    "my_LP += 2*x + 5*y <= 54\r\n",
    "my_LP += 8*x + y >= 26\r\n",
    "my_LP += y >= 2\r\n",
    "my_LP += 2*x + y <= 22"
   ],
   "outputs": [],
   "metadata": {}
  },
  {
   "cell_type": "markdown",
   "source": [
    "#### Step 6: Printing out the linear program and check if it is as desired"
   ],
   "metadata": {}
  },
  {
   "cell_type": "code",
   "execution_count": 7,
   "source": [
    "# Print your LP\r\n",
    "print(my_LP)"
   ],
   "outputs": [
    {
     "output_type": "stream",
     "name": "stdout",
     "text": [
      "Easternmost_point_of_the_house:\n",
      "MAXIMIZE\n",
      "1*x_component + 0\n",
      "SUBJECT TO\n",
      "_C1: 2 x_component + 5 y_component <= 54\n",
      "\n",
      "_C2: 8 x_component + y_component >= 26\n",
      "\n",
      "_C3: y_component >= 2\n",
      "\n",
      "_C4: 2 x_component + y_component <= 22\n",
      "\n",
      "VARIABLES\n",
      "x_component Continuous\n",
      "y_component Continuous\n",
      "\n"
     ]
    }
   ],
   "metadata": {}
  },
  {
   "cell_type": "markdown",
   "source": [
    "#### Step 7: Solving the linear program and inspecting the solution\n",
    "Does the result match with the graphical solution based on the drawing on the exercise sheet?"
   ],
   "metadata": {}
  },
  {
   "cell_type": "code",
   "execution_count": 8,
   "source": [
    "# Solve the linear program\r\n",
    "my_LP.solve()"
   ],
   "outputs": [
    {
     "output_type": "execute_result",
     "data": {
      "text/plain": [
       "1"
      ]
     },
     "metadata": {},
     "execution_count": 8
    }
   ],
   "metadata": {}
  },
  {
   "cell_type": "code",
   "execution_count": 9,
   "source": [
    "# Find the objective value and the variables values\r\n",
    "opt_x = x.value()\r\n",
    "opt_y = y.value()\r\n",
    "print(f'The easternmost point is located at ({opt_x:.1f}, {opt_y:.1f}).')"
   ],
   "outputs": [
    {
     "output_type": "stream",
     "name": "stdout",
     "text": [
      "The easternmost point is located at (10.0, 2.0).\n"
     ]
    }
   ],
   "metadata": {}
  },
  {
   "cell_type": "markdown",
   "source": [
    "### Task 2: Visualize the feasible region of the linear program."
   ],
   "metadata": {}
  },
  {
   "cell_type": "markdown",
   "source": [
    "To create figures, we need two additional packages, both of which are included in Anaconda. If you don't use Anaconda, you might need to install them via the command line using `pip`.\n",
    "\n",
    "* `pip install numpy`\n",
    "* `pip install matplotlib`\n",
    "\n",
    "**Numpy** is a package for scientific computing with Python: https://numpy.org\n",
    "\n",
    "**Matplotlip** is a Python library for plotting: https://matplotlib.org\n",
    "\n",
    "As an example, suppose that we would like to plot the feasible region on ${(x,y) \\in [0,1]^2}$ with the following three constraints:\n",
    "\n",
    "$$\n",
    "\\begin{array}{rlcl}\n",
    "x+4y &\\leq& 3 \\\\\n",
    "x+y  &\\geq& 1\\\\\n",
    "3x+y &\\leq& 2\n",
    "\\end{array}\n",
    "$$"
   ],
   "metadata": {}
  },
  {
   "cell_type": "markdown",
   "source": [
    "First, we need to load the two packages and set up our environment. `%matplotlib inline` is a command used in Jupyter notebooks to have matplotlib plotting inline, i.e. inside the notebook and not in a new window."
   ],
   "metadata": {}
  },
  {
   "cell_type": "code",
   "execution_count": 10,
   "source": [
    "import numpy as np\r\n",
    "import matplotlib.pyplot as plt\r\n",
    "%matplotlib inline"
   ],
   "outputs": [],
   "metadata": {}
  },
  {
   "cell_type": "markdown",
   "source": [
    "Then we create our figure in the code section below.\n",
    "\n",
    "<font color='red'>Note:</font> To represent a line numerically, we need discretized points on both axes. For this, we can use `np.linspace(start, stop, num=50)`, which creates a list with evenly spaced numbers over the interval $[\\text{start, stop}]$. `num` represents the number of points between the two endpoints. Similarly, to represent an area numerically, we also need discretized points. This can be done through `np.meshgrid(a1,a2,...,ad)`, which creates a d-dimensional grid from one-dimensional lists `a1, a2, ..., ad`.\n",
    "\n",
    "<font color='red'>Note:</font> You can check out the details of `plt.plot` and `pyplot.imshow` in the [official documentation](https://matplotlib.org/stable/api/pyplot_summary.html)."
   ],
   "metadata": {}
  },
  {
   "cell_type": "code",
   "execution_count": 11,
   "source": [
    "### Initialize the plot.\r\n",
    "plt.figure(figsize=(6, 6)) # create an empty figure\r\n",
    "\r\n",
    "\r\n",
    "### Plot the lines.\r\n",
    "# create an array of x values between 0 and 1\r\n",
    "x1 = np.linspace(0, 1, num=200) \r\n",
    "\r\n",
    "# create an array of y values for each of the lines defined by the constraints\r\n",
    "y1 = (1/4)*(3-x1)  # x + 4*y = 3\r\n",
    "y2 = 1-x1          # x + y = 1\r\n",
    "y3 = 2-3*x1        # 3*x + y = 2\r\n",
    "\r\n",
    "# plot all three lines using plt.plot(x,y)\r\n",
    "plt.plot(x1, y1, label='$x+4y \\leq 3$')\r\n",
    "plt.plot(x1, y2, label='$x+y \\geq 1$' )\r\n",
    "plt.plot(x1, y3, label='$3x+y \\leq 2$')\r\n",
    "\r\n",
    "\r\n",
    "### Plot the feasible region.\r\n",
    "# create a grid of x and y values between 0 and 1\r\n",
    "x, y = np.meshgrid(x1, x1)\r\n",
    "\r\n",
    "# display data as an image using plt.imshow()\r\n",
    "plt.imshow(\r\n",
    "    ((x+4*y<=3) & (x+y>=1) & (3*x+y<=2)).astype(int),          # data points for the image\r\n",
    "    extent=(x.min(),x.max(),y.min(),y.max()), origin=\"lower\",  # controls the location of the image \r\n",
    "    cmap=\"Greys\", alpha = 0.3)                                 # controls the colour of the image\r\n",
    "\r\n",
    "\r\n",
    "### Format the graph.\r\n",
    "# set the min and max values of x and y along the axes\r\n",
    "plt.xlim(0,1); plt.ylim(0,1)\r\n",
    "\r\n",
    "# add axis labels\r\n",
    "plt.xlabel('$x$'); plt.ylabel('$y$')\r\n",
    "\r\n",
    "# add the legend on the upper right corner of the graph\r\n",
    "plt.legend(loc='upper right')"
   ],
   "outputs": [
    {
     "output_type": "execute_result",
     "data": {
      "text/plain": [
       "<matplotlib.legend.Legend at 0x1a5244b0b80>"
      ]
     },
     "metadata": {},
     "execution_count": 11
    },
    {
     "output_type": "display_data",
     "data": {
      "image/png": "[encoded data removed]",
      "text/plain": [
       "<Figure size 432x432 with 1 Axes>"
      ]
     },
     "metadata": {
      "needs_background": "light"
     }
    }
   ],
   "metadata": {}
  },
  {
   "cell_type": "code",
   "execution_count": 12,
   "source": [
    "print(type(x1))"
   ],
   "outputs": [
    {
     "output_type": "stream",
     "name": "stdout",
     "text": [
      "<class 'numpy.ndarray'>\n"
     ]
    }
   ],
   "metadata": {}
  },
  {
   "cell_type": "markdown",
   "source": [
    "Now, time to try it with the feasible region of the house. Recall that the equation of the four walls of the house is as follows: \n",
    "$$\n",
    "\\begin{array}{rlcl}\n",
    "2x+5y &\\leq& 54 \\\\\n",
    "8x+y  &\\geq& 26\\\\\n",
    "y     &\\geq& 2\\\\\n",
    "2x+y  &\\leq& 22\n",
    "\\end{array}\n",
    "$$\n",
    "\n",
    "<font color='red'>Hint:</font> To plot the line $y=2$, commands like `y=2` followed by `plt.plot(x,y)` will not work because `x` and `y` are not of the same length. You may use `y=2+0*x` instead.\n",
    "\n",
    "<font color='red'>Hint:</font> You can use the following maximum and minimum values for x and y along the axes: `plt.xlim(0,11); plt.ylim(0,11)`."
   ],
   "metadata": {}
  },
  {
   "cell_type": "code",
   "execution_count": 17,
   "source": [
    "### Initialize the plot\r\n",
    "plt.figure(figsize=(6, 6))\r\n",
    "\r\n",
    "\r\n",
    "### Plot the lines\r\n",
    "# Create a list of x values between 0 and 11\r\n",
    "x1 = np.linspace(0, 11, num=200)\r\n",
    "\r\n",
    "# Create a list of y values for each of the lines defined by the constraints\r\n",
    "y1 = (54-2*x1)/5\r\n",
    "y2 = 26-8*x1\r\n",
    "y3 = 2-0*x1\r\n",
    "y4 = 22-2*x1\r\n",
    "\r\n",
    "# Plot all three lines using plt.plot(x,y)\r\n",
    "plt.plot(x1, y1, label='$2x+5y\\leq 54$')\r\n",
    "plt.plot(x1, y2, label='$8x+y \\geq 26$')\r\n",
    "plt.plot(x1, y3, label='$y \\geq 2$')\r\n",
    "plt.plot(x1, y4, label='$2x+y \\leq 22$')\r\n",
    "\r\n",
    "### Plot the feasible region\r\n",
    "# Create a grid of x and y values between 0 and 1\r\n",
    "x, y = np.meshgrid(x1, x1)\r\n",
    "\r\n",
    "\r\n",
    "# Display data as an image using plt.imshow()\r\n",
    "plt.imshow(\r\n",
    "    ((2*x+5*y<=54) & (8*x+y>=26) & (y+0*x >= 2) & (2*x+y <= 22)).astype(int),          # data points for the image\r\n",
    "    extent=(x.min(),x.max(),y.min(),y.max()), origin=\"lower\",  # controls the location of the image \r\n",
    "    cmap=\"Greys\", alpha = 0.3)   \r\n",
    "\r\n",
    "\r\n",
    "### Format the graph\r\n",
    "# Set the min and max values of x and y along the axes\r\n",
    "plt.xlim(0,11); plt.ylim(0,11)\r\n",
    "\r\n",
    "# Add axis labels\r\n",
    "plt.xlabel('$x$'); plt.ylabel('$y$')\r\n",
    "\r\n",
    "# Add the legend on the upper right corner of the graph\r\n",
    "plt.legend(loc='upper right')"
   ],
   "outputs": [
    {
     "output_type": "execute_result",
     "data": {
      "text/plain": [
       "<matplotlib.legend.Legend at 0x1a524828220>"
      ]
     },
     "metadata": {},
     "execution_count": 17
    },
    {
     "output_type": "display_data",
     "data": {
      "image/png": "[encoded data removed]",
      "text/plain": [
       "<Figure size 432x432 with 1 Axes>"
      ]
     },
     "metadata": {
      "needs_background": "light"
     }
    }
   ],
   "metadata": {}
  },
  {
   "cell_type": "markdown",
   "source": [
    "## Exercise 2: the Perfect Breakfast"
   ],
   "metadata": {}
  },
  {
   "cell_type": "markdown",
   "source": [
    "### Task 1: Model the problem in PuLP. \n",
    "\n",
    "Recall that we have modelled the exercise 1 in problem set 1 as:\n",
    "$$\n",
    "\\begin{array}{rrcrcl}\n",
    "\\text{maximize:}   &   9 x  +  12 y               \\\\\n",
    "\\text{subject to:} &     x          & \\leq & 5,   \\\\\n",
    "                   & 200 x  +  50 y & \\geq & 400, \\\\\n",
    "                   &   6 x  +   7 y & \\leq & 42,  \\\\\n",
    "                   &     x  ,     y & \\geq & 0.   \\\\\n",
    "\\end{array}\n",
    "$$\n",
    "\n",
    "Let's implement it in PuLP. You have already seen and experimented with LPs using PuLP, so there will not be any guidelines this time. What is the objective value (i.e. the optimal amount of protein)? What combinations of cereals A and B should you have to reach it?"
   ],
   "metadata": {}
  },
  {
   "cell_type": "code",
   "execution_count": null,
   "source": [
    "# Try to do it from scratch yourself.\r\n",
    "\r\n"
   ],
   "outputs": [],
   "metadata": {}
  },
  {
   "cell_type": "markdown",
   "source": [
    "### Task 2: Change a constraint.\n",
    "Now you already know the basics for solving a linear program in PuLP. It's time to take it to the next level. \n",
    "\n",
    "Suppose this morning, you wake up feeling that it's time to spoil yourself and don't want to care how much sugar you take. That is, you'd like to delete the constraint corresponding to sugar. Update your linear program accordingly. \n",
    "\n",
    "<font color='red'>Hint:</font> It will be convenient if you don't have to rewrite everything. Fortunately, PuLP has a built-in function called `del`for you to delete certain constraints. It works as `del name_of_lp.constraints['name_of_constraint_to_delete']`.\n",
    "Try it!\n"
   ],
   "metadata": {}
  },
  {
   "cell_type": "code",
   "execution_count": null,
   "source": [
    "# Delete the constraint corresponding to sugar. \r\n"
   ],
   "outputs": [],
   "metadata": {}
  },
  {
   "cell_type": "markdown",
   "source": [
    "Print your LP again to see whether you have succeeded."
   ],
   "metadata": {}
  },
  {
   "cell_type": "code",
   "execution_count": null,
   "source": [
    "# Print your LP.\r\n"
   ],
   "outputs": [],
   "metadata": {}
  },
  {
   "cell_type": "markdown",
   "source": [
    "Solve the updated linear program. What is the status of the linear program now? Is it optimized, unbounded or infeasible?"
   ],
   "metadata": {}
  },
  {
   "cell_type": "code",
   "execution_count": null,
   "source": [
    "# Solve your LP.\r\n"
   ],
   "outputs": [],
   "metadata": {}
  },
  {
   "cell_type": "markdown",
   "source": [
    "What about other handy tools that you can think of? For example, you may want to change a constraint. Do you have to delete the constraint and then add it again? Or there's some easier ways? Play with PuLP, search the documentation, and discover it! \n",
    "\n",
    "As a concrete example, you may want to increase your energy consumed to be at least 1400, while still having the sugar constraint. How can you modify your linear program? Solve it and see what is the status of this LP."
   ],
   "metadata": {}
  },
  {
   "cell_type": "code",
   "execution_count": null,
   "source": [
    "# Change the constraint of energy from 400 to 1400, solve the LP and decide the type.\n"
   ],
   "outputs": [],
   "metadata": {}
  },
  {
   "cell_type": "code",
   "execution_count": null,
   "source": [
    "# Play freely in PuLP and try to explore different functions, have fun!\n"
   ],
   "outputs": [],
   "metadata": {}
  }
 ],
 "metadata": {
  "kernelspec": {
   "name": "python3",
   "display_name": "Python 3.8.8 64-bit ('base': conda)"
  },
  "language_info": {
   "codemirror_mode": {
    "name": "ipython",
    "version": 3
   },
   "file_extension": ".py",
   "mimetype": "text/x-python",
   "name": "python",
   "nbconvert_exporter": "python",
   "pygments_lexer": "ipython3",
   "version": "3.8.8"
  },
  "interpreter": {
   "hash": "0171b244de4482d8783f5077ffb8768e3b91ed0562dc4312064e8d1e340f4238"
  }
 },
 "nbformat": 4,
 "nbformat_minor": 5
}