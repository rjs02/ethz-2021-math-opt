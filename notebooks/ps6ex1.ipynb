{
 "cells": [
  {
   "cell_type": "markdown",
   "metadata": {},
   "source": [
    "# Midterm preparation\n",
    "## Problem set 6, ex 1"
   ]
  },
  {
   "cell_type": "code",
   "execution_count": 1,
   "metadata": {},
   "outputs": [],
   "source": [
    "import pulp\n",
    "\n",
    "Lp1 = pulp.LpProblem(\"My_LP_1\", pulp.LpMaximize)\n",
    "\n",
    "x1 = pulp.LpVariable('x1', lowBound=0, cat=pulp.LpContinuous)\n",
    "x2 = pulp.LpVariable('x2', lowBound=0, cat=pulp.LpContinuous)\n",
    "x3 = pulp.LpVariable('x3', lowBound=0, cat=pulp.LpContinuous)\n",
    "\n",
    "Lp1 += 2*x1 + 3*x2 + x3\n",
    "\n",
    "Lp1 += x1 + x2 + x3 <= 40\n",
    "Lp1 += 2*x1 + x2 - x3 >= 10\n",
    "Lp1 += 0*x1 - x2 + x3 >= 10"
   ]
  },
  {
   "cell_type": "code",
   "execution_count": 2,
   "metadata": {},
   "outputs": [
    {
     "name": "stdout",
     "output_type": "stream",
     "text": [
      "My_LP_1:\n",
      "MAXIMIZE\n",
      "2*x1 + 3*x2 + 1*x3 + 0\n",
      "SUBJECT TO\n",
      "_C1: x1 + x2 + x3 <= 40\n",
      "\n",
      "_C2: 2 x1 + x2 - x3 >= 10\n",
      "\n",
      "_C3: - x2 + x3 >= 10\n",
      "\n",
      "VARIABLES\n",
      "x1 Continuous\n",
      "x2 Continuous\n",
      "x3 Continuous\n",
      "\n"
     ]
    }
   ],
   "source": [
    "print(Lp1)"
   ]
  },
  {
   "cell_type": "code",
   "execution_count": 3,
   "metadata": {},
   "outputs": [
    {
     "data": {
      "text/plain": [
       "1"
      ]
     },
     "execution_count": 3,
     "metadata": {},
     "output_type": "execute_result"
    }
   ],
   "source": [
    "Lp1.solve()"
   ]
  },
  {
   "cell_type": "code",
   "execution_count": 4,
   "metadata": {},
   "outputs": [
    {
     "name": "stdout",
     "output_type": "stream",
     "text": [
      "10.0\n",
      "10.0\n",
      "20.0\n"
     ]
    }
   ],
   "source": [
    "print(x1.value())\n",
    "print(x2.value())\n",
    "print(x3.value())"
   ]
  },
  {
   "cell_type": "markdown",
   "metadata": {},
   "source": [
    "# Solve by hand"
   ]
  },
  {
   "cell_type": "code",
   "execution_count": 5,
   "metadata": {},
   "outputs": [],
   "source": [
    "# Import the module\n",
    "import numpy as np\n",
    "\n",
    "# Implement the pivot function\n",
    "def pivot(T,i,k):\n",
    "    # Create a copy of the tableau\n",
    "    T_pivot = np.copy(T)\n",
    "    \n",
    "    # Step (i)\n",
    "    # We divide the i-th row elementwise by the value of a_ik\n",
    "    T_pivot[i,:] = T[i,:] / T[i,k]\n",
    "    \n",
    "    # Step (ii)\n",
    "    # Note: for-loops can be interchanged\n",
    "    # We iterate through each column (l = 1,...,n+m)\n",
    "    for l in range(0,T.shape[1]):\n",
    "        # In the column we iterate through each row, but skip row i (j=/=i,j=1,...,m)\n",
    "        for j in range(0,T.shape[0]):\n",
    "            if(j!=i):\n",
    "                # We compute the new value\n",
    "                T_pivot[j,l] = T[j,l] - T[j,k] * T[i,l] / T[i,k]\n",
    "    \n",
    "    return T_pivot "
   ]
  },
  {
   "cell_type": "code",
   "execution_count": 10,
   "metadata": {},
   "outputs": [
    {
     "name": "stdout",
     "output_type": "stream",
     "text": [
      "[[  0.   0.   0.   0.   0.   0.   0.   1.   0.]\n",
      " [  1.   0.   0.   0.  -2.  -3.  -1.   0.   0.]\n",
      " [  0.   1.   0.   0.   1.   1.   1.  -1.  40.]\n",
      " [  0.   0.   1.   0.  -2.  -1.   1.  -1. -10.]\n",
      " [  0.   0.   0.   1.   0.   1.  -1.  -1. -10.]]\n"
     ]
    }
   ],
   "source": [
    "#Add a header\n",
    "header_org = np.array(['z','y1','y2','y3','x1','x2','x3','x0',' 1']) \n",
    "\n",
    "#Intialize T0\n",
    "T0 = np.matrix([\n",
    "    [0, 0, 0, 0, 0, 0, 0, 1, 0],\n",
    "    [1, 0, 0, 0,-2,-3,-1, 0, 0],\n",
    "    [0, 1, 0, 0, 1, 1, 1,-1,40],\n",
    "    [0, 0, 1, 0,-2,-1, 1,-1,-10],\n",
    "    [0, 0, 0, 1, 0, 1,-1,-1,-10]\n",
    "],dtype=float)\n",
    "print(T0)"
   ]
  },
  {
   "cell_type": "code",
   "execution_count": 11,
   "metadata": {},
   "outputs": [
    {
     "name": "stdout",
     "output_type": "stream",
     "text": [
      " ['z' 'y1' 'y2' 'y3' 'x1' 'x2' 'x3' 'x0' ' 1']\n",
      "[[  0.   0.   1.   0.  -2.  -1.   1.   0. -10.]\n",
      " [  1.   0.   0.   0.  -2.  -3.  -1.   0.   0.]\n",
      " [  0.   1.  -1.   0.   3.   2.   0.   0.  50.]\n",
      " [ -0.  -0.  -1.  -0.   2.   1.  -1.   1.  10.]\n",
      " [  0.   0.  -1.   1.   2.   2.  -2.   0.   0.]]\n"
     ]
    }
   ],
   "source": [
    "T1 = pivot(T0, 3, 7)\n",
    "print(\"\", header_org)\n",
    "print(T1)"
   ]
  },
  {
   "cell_type": "code",
   "execution_count": 12,
   "metadata": {},
   "outputs": [
    {
     "name": "stdout",
     "output_type": "stream",
     "text": [
      " ['z' 'y1' 'y2' 'y3' 'x1' 'x2' 'x3' 'x0' ' 1']\n",
      "[[  0.    0.    0.    1.    0.    1.   -1.    0.  -10. ]\n",
      " [  1.    0.   -1.    1.    0.   -1.   -3.    0.    0. ]\n",
      " [  0.    1.    0.5  -1.5   0.   -1.    3.    0.   50. ]\n",
      " [ -0.   -0.    0.   -1.    0.   -1.    1.    1.   10. ]\n",
      " [  0.    0.   -0.5   0.5   1.    1.   -1.    0.    0. ]]\n"
     ]
    }
   ],
   "source": [
    "T2 = pivot(T1, 4, 4)\n",
    "print(\"\", header_org)\n",
    "print(T2)"
   ]
  },
  {
   "cell_type": "code",
   "execution_count": 14,
   "metadata": {},
   "outputs": [
    {
     "name": "stdout",
     "output_type": "stream",
     "text": [
      " ['z' 'y1' 'y2' 'y3' 'x1' 'x2' 'x3' 'x0' ' 1']\n",
      "[[ 0.   0.   0.   0.   0.   0.   0.   1.   0. ]\n",
      " [ 1.   0.  -1.  -2.   0.  -4.   0.   3.  30. ]\n",
      " [ 0.   1.   0.5  1.5  0.   2.   0.  -3.  20. ]\n",
      " [-0.  -0.   0.  -1.   0.  -1.   1.   1.  10. ]\n",
      " [ 0.   0.  -0.5 -0.5  1.   0.   0.   1.  10. ]]\n",
      "Feasible!\n"
     ]
    }
   ],
   "source": [
    "T3 = pivot(T2, 3, 6)\n",
    "print(\"\", header_org)\n",
    "print(T3)\n",
    "print(\"Feasible!\")"
   ]
  },
  {
   "cell_type": "code",
   "execution_count": 28,
   "metadata": {},
   "outputs": [
    {
     "name": "stdout",
     "output_type": "stream",
     "text": [
      " ['z' ' y1' 'y2' 'y3' 'x1' 'x2' 'x3' '1']\n",
      "[[ 1.   0.  -1.  -2.   0.  -4.   0.  30. ]\n",
      " [ 0.   1.   0.5  1.5  0.   2.   0.  20. ]\n",
      " [ 0.   0.   0.  -1.   0.  -1.   1.  10. ]\n",
      " [ 0.   0.  -0.5 -0.5  1.   0.   0.  10. ]]\n"
     ]
    }
   ],
   "source": [
    "header_org2 = np.array(['z',' y1','y2','y3','x1','x2','x3','1']) \n",
    "\n",
    "T4 = np.matrix([\n",
    "    [1, 0,-1,-2,0,-4,0,30],\n",
    "    [0,1,0.5,1.5,0,2,0,20],\n",
    "    [0,0,0,-1,0,-1,1,10],\n",
    "    [0,0,-0.5,-0.5,1,0,0,10]\n",
    "],dtype=float)\n",
    "print(\"\", header_org2)\n",
    "print(T4)"
   ]
  },
  {
   "cell_type": "code",
   "execution_count": 29,
   "metadata": {},
   "outputs": [
    {
     "name": "stdout",
     "output_type": "stream",
     "text": [
      " ['z' ' y1' 'y2' 'y3' 'x1' 'x2' 'x3' '1']\n",
      "[[ 1.    2.    0.    1.    0.    0.    0.   70.  ]\n",
      " [ 0.    0.5   0.25  0.75  0.    1.    0.   10.  ]\n",
      " [ 0.    0.5   0.25 -0.25  0.    0.    1.   20.  ]\n",
      " [ 0.    0.   -0.5  -0.5   1.    0.    0.   10.  ]]\n",
      "optimal!\n"
     ]
    }
   ],
   "source": [
    "T5 = pivot(T4, 1, 5)\n",
    "print(\"\", header_org2)\n",
    "print(T5)\n",
    "print(\"optimal!\")"
   ]
  },
  {
   "cell_type": "markdown",
   "metadata": {},
   "source": [
    "Optimal solution: $(x_1,x_2,x_3)^* = (10, 20, 10)$"
   ]
  }
 ],
 "metadata": {
  "interpreter": {
   "hash": "0171b244de4482d8783f5077ffb8768e3b91ed0562dc4312064e8d1e340f4238"
  },
  "kernelspec": {
   "display_name": "Python 3.8.8 64-bit ('base': conda)",
   "language": "python",
   "name": "python3"
  },
  "language_info": {
   "codemirror_mode": {
    "name": "ipython",
    "version": 3
   },
   "file_extension": ".py",
   "mimetype": "text/x-python",
   "name": "python",
   "nbconvert_exporter": "python",
   "pygments_lexer": "ipython3",
   "version": "3.8.8"
  },
  "orig_nbformat": 4
 },
 "nbformat": 4,
 "nbformat_minor": 2
}
