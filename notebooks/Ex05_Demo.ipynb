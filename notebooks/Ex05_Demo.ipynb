{
 "cells": [
  {
   "cell_type": "markdown",
   "id": "7ad121f2",
   "metadata": {},
   "source": [
    "# Exercise Class Week 5\n",
    "Tian You <br>\n",
    "[tiayou@ethz.ch](mailto:tiayou@ethz.ch)<br>\n",
    "20.10.2021 <br>\n",
    "\n",
    "Note: If you'd like to run the workbook, please make sure that plotLP.py is also saved in the same directory."
   ]
  },
  {
   "cell_type": "code",
   "execution_count": 1,
   "id": "507ec824",
   "metadata": {},
   "outputs": [],
   "source": [
    "# Import the module\n",
    "import numpy as np\n",
    "\n",
    "# Implement your function here\n",
    "def pivot(T,i,k):\n",
    "    # Create a copy of the tableau\n",
    "    T_pivot = np.copy(T)\n",
    "    \n",
    "    # Step (i)\n",
    "    # We divide the i-th row elementwise by the value of a_ik\n",
    "    T_pivot[i,:] = T[i,:] / T[i,k]\n",
    "    \n",
    "    # Step (ii)\n",
    "    # Note: for-loops can be interchanged\n",
    "    # We iterate through each column (l = 1,...,n+m)\n",
    "    for l in range(0,T.shape[1]):\n",
    "        # In the column we iterate through each row, but skip row i (j=/=i,j=1,...,m)\n",
    "        for j in range(0,T.shape[0]):\n",
    "            if(j!=i):\n",
    "                # We compute the new value\n",
    "                T_pivot[j,l] = T[j,l] - T[j,k] * T[i,l] / T[i,k]\n",
    "    \n",
    "    return T_pivot  "
   ]
  },
  {
   "cell_type": "code",
   "execution_count": 2,
   "id": "f696095a",
   "metadata": {},
   "outputs": [],
   "source": [
    "# Adjust the printing format\n",
    "np.set_printoptions(\n",
    "    formatter={'str_kind': lambda x: '{:^7}'.format(x),\n",
    "               'float': lambda x: '{: ^7.3g}'.format(x)})"
   ]
  },
  {
   "cell_type": "markdown",
   "id": "099b6b2a",
   "metadata": {},
   "source": [
    "## Part 1: Tableau Basics"
   ]
  },
  {
   "cell_type": "markdown",
   "id": "fcdfc669",
   "metadata": {},
   "source": [
    "Consider the following LP:\n",
    "$$\\begin{equation}\n",
    "\\begin{array}{llrrrrrrrr}\n",
    "  &\\text{max} \\quad z= &x  &  &      &    &   \\\\\n",
    "  &\\text{s. t.:}    &x  &  &      & \\leq  &4  \\\\\n",
    "  &                 &   &  &y     & \\leq  &4  \\\\\n",
    "  &                 &x  &- &y     & \\geq  &-2 \\\\\n",
    "  &                 &x  &  &      & \\geq  &0  \\\\\n",
    "  &                 &   &  &y     & \\geq  &0  \\\\\n",
    "\\end{array}\n",
    "\\end{equation}$$"
   ]
  },
  {
   "cell_type": "markdown",
   "id": "0ee8997d",
   "metadata": {},
   "source": [
    "Its feasible region has 5 vertices: $(0,0),(4,0),(4,4),(2,4),(0,2)$."
   ]
  },
  {
   "cell_type": "code",
   "execution_count": 3,
   "id": "4716a465",
   "metadata": {},
   "outputs": [],
   "source": [
    "import pulp\n",
    "\n",
    "Lp1 = pulp.LpProblem(\"My_LP_1\", pulp.LpMaximize)\n",
    "\n",
    "x = pulp.LpVariable('x', lowBound=0, cat=pulp.LpContinuous)\n",
    "y = pulp.LpVariable('y', lowBound=0, cat=pulp.LpContinuous)\n",
    "\n",
    "Lp1 += x\n",
    "\n",
    "Lp1 += x <= 4\n",
    "Lp1 += y <= 4\n",
    "Lp1 += x - y >= -2"
   ]
  },
  {
   "cell_type": "code",
   "execution_count": 4,
   "id": "38b27d92",
   "metadata": {},
   "outputs": [
    {
     "data": {
      "image/png": "[encoded data removed]",
      "text/plain": [
       "<Figure size 432x432 with 1 Axes>"
      ]
     },
     "metadata": {
      "needs_background": "light"
     },
     "output_type": "display_data"
    }
   ],
   "source": [
    "%matplotlib inline\n",
    "from plotLP import *  \n",
    "plotLP(Lp1, x_lower=-1, x_upper=8, y_lower=-1, y_upper=8)"
   ]
  },
  {
   "cell_type": "markdown",
   "id": "8c9432db",
   "metadata": {},
   "source": [
    "Consider the following LP:\n",
    "$$\\begin{equation}\n",
    "\\begin{array}{llrrrrrrrr}\n",
    "  &\\text{max} \\quad z= &x  &  &      &    &   \\\\\n",
    "  &\\text{s. t.:}    &x  &  &      & \\leq  &4  \\\\\n",
    "  &                 &   &  &y     & \\leq  &4  \\\\\n",
    "  &                 &x  &- &y     & \\geq  &-2 \\\\\n",
    "  &                 &x  &  &      & \\geq  &0  \\\\\n",
    "  &                 &   &  &y     & \\geq  &0  \\\\\n",
    "\\end{array}\n",
    "\\end{equation}$$"
   ]
  },
  {
   "cell_type": "markdown",
   "id": "942f16a0",
   "metadata": {},
   "source": [
    "#### Q: Assume $x\\geq0, y\\geq0$. Are the following two constraints equivalent?\n",
    "1. $x-y\\geq-2$\n",
    "2. $x-y+s=-2, s\\geq0$\n",
    "\n",
    "<font color='#85929E'> No! Consider the solution $(x,y,s)=(0,8,6)$. It works for 2, but not 1. </font> \n",
    "\n",
    "#### Q: Assume $x\\geq0, y\\geq0$.  Are the following two constraints equivalent?\n",
    "1. $x-y\\geq-2$\n",
    "2. $x-y+s=-2, s\\leq0$\n",
    "\n",
    "<font color='#85929E'> Yes. $x-y=-2-s\\geq-2$ because $-s\\geq 0$. However, we cannot use the second expression in the standard form, because the standard form requires $s\\geq0$. Usually, one will rewrite 1 as $-x+y\\leq2$ and then add the slack variable. </font> \n",
    "\n",
    "\n",
    "Can you rewrite the LP in the standard form?"
   ]
  },
  {
   "cell_type": "markdown",
   "id": "52425281",
   "metadata": {},
   "source": [
    "The LP in the standard form is:\n",
    "$$\\begin{equation}\n",
    "    \\begin{array}{llrrrrrrrrrr}\n",
    "        \\\\&\\text{max} \\quad  z = & x                            \\\\\n",
    "          &\\text{s.t:}     & x &   &   & + & s_1 &&&&& =    & 4 \\\\\n",
    "          &                &   &   & y &&& + & s_2 &&& =    & 4 \\\\\n",
    "          &                &-x & + & y &&&&& + & s_3 & =    & 2 \\\\\n",
    "          &                & x &   &           &&&&&&& \\geq & 0 \\\\\n",
    "          &                &   &   & y         &&&&&&& \\geq & 0 \\\\\n",
    "          &                &   &   &      &&&&&& s_i & \\geq & 0 & \\forall i=1,2,3\\\\\n",
    "    \\end{array}\n",
    "\\end{equation}$$"
   ]
  },
  {
   "cell_type": "markdown",
   "id": "30c70458",
   "metadata": {},
   "source": [
    "Let's first ignore the objective function and only focus on the feasible region defined by the constraints.\n",
    "\n",
    "Now, what is the corresponding tableau?\n",
    "\n",
    "#### Q: The corresponding tableau (without the row for the objective function) has...\n",
    "- <font color='#85929E'> 3 </font> rows\n",
    "- <font color='#85929E'> 3 </font> slack variables\n",
    "- <font color='#85929E'> 5 </font> columns\n",
    "- <font color='#85929E'> 2 </font> free variables\n",
    "\n",
    "#### Q: How many free variables are there for a tableau (without the row for the objective function) of size $5 \\times 8$?\n",
    "<font color='#85929E'> # of rows $= 5$; # of columns $= 8$. There are $8 - 5 = 3$ free variables. </font> \n"
   ]
  },
  {
   "cell_type": "markdown",
   "id": "83d387c4",
   "metadata": {},
   "source": [
    "The corresponding tableau is:\n",
    "$$T_0=\\begin{equation}\n",
    "\\begin{array}{rrrrr|r}\n",
    "  s_1 & s_2 & s_3 & x & y & 1 \\\\ \\hline\n",
    "    1 &  0  &  0  & 1 & 0 & 4 \\\\\n",
    "    0 &  1  &  0  & 0 & 1 & 4 \\\\\n",
    "    0 &  0  &  1  &-1 & 1 & 2\n",
    "\\end{array}\n",
    "\\end{equation}$$"
   ]
  },
  {
   "cell_type": "code",
   "execution_count": 5,
   "id": "592897f2",
   "metadata": {},
   "outputs": [
    {
     "name": "stdout",
     "output_type": "stream",
     "text": [
      " [  s1      s2      s3       x       y       1   ]\n",
      "[[   1       0       0       1       0       4   ]\n",
      " [   0       1       0       0       1       4   ]\n",
      " [   0       0       1      -1       1       2   ]]\n"
     ]
    }
   ],
   "source": [
    "#Add a header\n",
    "header1 = np.array(['s1','s2','s3','x','y','1']) \n",
    "\n",
    "#Intialize T0\n",
    "T0 = np.matrix([\n",
    "    [1, 0, 0,  1, 0, 4],\n",
    "    [0, 1, 0,  0, 1, 4],\n",
    "    [0, 0, 1, -1, 1, 2]\n",
    "],dtype=float)\n",
    "\n",
    "#Print the header and T0\n",
    "print(\"\", header1)\n",
    "print(T0)"
   ]
  },
  {
   "cell_type": "markdown",
   "id": "cf474707",
   "metadata": {},
   "source": [
    "#### Q: Identify the following:\n",
    "- Basis: <font color='#85929E'> columns corresponding to $s_1, s_2, s_3$. </font>\n",
    "- Basic variables: <font color='#85929E'> $s_1, s_2, s_3$ </font>\n",
    "- Non-basic variables: <font color='#85929E'> $x, y$ </font>\n",
    "- Corresponding basic solution: $(s_1, s_2, s_3, x, y) = $  <font color='#85929E'> $(4,4,2,0,0)$ </font>"
   ]
  },
  {
   "cell_type": "markdown",
   "id": "6eeac7aa",
   "metadata": {},
   "source": [
    "#### Q: Are there any other solutions to this system of 3 equations?\n",
    "<font color='#85929E'> Yes, there is an infinite number of solutions to this system of equations. We can express the dependent variable in terms of independent variables:\n",
    "\n",
    "$$\\begin{equation}\n",
    "    \\begin{array}{ccl}\n",
    "            &s_1 &= &4 - x \\\\\n",
    "            &s_2 &= &4 - y \\\\\n",
    "            &s_3 &= &2 + x - y \\\\\n",
    "      \\end{array}\n",
    "\\end{equation}\n",
    "$$\n",
    "</font>\n",
    "<font color='#85929E'>\n",
    "Every choice of $(x,y)$ determines the set of values for $(s_1, s_2, s_3, x, y)$. For example, choose $(x,y)=(1,1)$, then $(s_1, s_2, s_3, x, y) = (3, 3, 2, 1, 1)$ is a solution to the system of the equations. However, it is not a *basic* solution to the tableau. </font>"
   ]
  },
  {
   "cell_type": "code",
   "execution_count": 6,
   "id": "1ddd9b35",
   "metadata": {},
   "outputs": [
    {
     "data": {
      "image/png": "[encoded data removed]",
      "text/plain": [
       "<Figure size 432x432 with 1 Axes>"
      ]
     },
     "metadata": {
      "needs_background": "light"
     },
     "output_type": "display_data"
    }
   ],
   "source": [
    "plotLP(Lp1, x_lower=-1, x_upper=8, y_lower=-1, y_upper=8)\n",
    "plotVert(T0, x_col_num=4, y_col_num=5)"
   ]
  },
  {
   "cell_type": "markdown",
   "id": "d2e87446",
   "metadata": {},
   "source": [
    "## Part 2: Pivoting\n",
    "Let's pivot at the entry $(3,4)$, or entry `(2,3)` in Python, of the original tableau:\n",
    "\n",
    "$$T_0=\\begin{equation}\n",
    "\\begin{array}{rrrrr|r}\n",
    "  s_1 & s_2 & s_3 & x & y & 1 \\\\ \\hline\n",
    "    1 &  0  &  0  & 1 & 0 & 4 \\\\\n",
    "    0 &  1  &  0  & 0 & 1 & 4 \\\\\n",
    "    0 &  0  &  1  &\\textbf{-1} & 1 & 2\n",
    "\\end{array}\n",
    "\\end{equation}$$\n",
    "\n",
    "#### Q: Identify the following:\n",
    "- What variable enters the basis? <font color='#85929E'> $x$ </font>\n",
    "- What variable leaves the basis? <font color='#85929E'> $s_3$ </font>"
   ]
  },
  {
   "cell_type": "code",
   "execution_count": 7,
   "id": "5d3ac608",
   "metadata": {},
   "outputs": [
    {
     "name": "stdout",
     "output_type": "stream",
     "text": [
      " [  s1      s2      s3       x       y       1   ]\n",
      "[[   1       0       1       0       1       6   ]\n",
      " [   0       1       0       0       1       4   ]\n",
      " [  -0      -0      -1       1      -1      -2   ]]\n"
     ]
    }
   ],
   "source": [
    "T1 = pivot(T0,2,3)\n",
    "print(\"\", header1)\n",
    "print(T1)"
   ]
  },
  {
   "cell_type": "markdown",
   "id": "5b548074",
   "metadata": {},
   "source": [
    "#### Q: Is this tableau feasible?\n",
    "<font color='#85929E'> No, because there is a negative entry $-2$ on the RHS. This means that one of the variables $s_1, s_2, s_3, x, y$ will take a negative value, violating the non-negativity constraints and making the basic solution infeasible. </font>"
   ]
  },
  {
   "cell_type": "markdown",
   "id": "f9171486",
   "metadata": {},
   "source": [
    "#### Q: What is the corresponding basic solution?\n",
    "$(s_1, s_2, s_3, x, y) = $  <font color='#85929E'> $(6,4,0,-2,0)$ </font>"
   ]
  },
  {
   "cell_type": "markdown",
   "id": "e1308549",
   "metadata": {},
   "source": [
    "### Part 3: Geometry\n",
    "Recall the LP in the standard form:\n",
    "$$\\begin{equation}\n",
    "    \\begin{array}{llrrrrrrrrrr}\n",
    "        \\\\&\\text{max} \\quad  z = & x                            \\\\\n",
    "          &\\text{s.t:}     & x &   &   & + & s_1 &&&&& =    & 4 \\\\\n",
    "          &                &   &   & y &&& + & s_2 &&& =    & 4 \\\\\n",
    "          &                &-x & + & y &&&&& + & s_3 & =    & 2 \\\\\n",
    "          &                & x &   &           &&&&&&& \\geq & 0 \\\\\n",
    "          &                &   &   & y         &&&&&&& \\geq & 0 \\\\\n",
    "          &                &   &   &      &&&&&& s_i & \\geq & 0 & \\forall i=1,2,3\\\\\n",
    "    \\end{array}\n",
    "\\end{equation}$$"
   ]
  },
  {
   "cell_type": "markdown",
   "id": "348af868",
   "metadata": {},
   "source": [
    "#### Q: In the basic solution of the last tableau, $s_3=0$. What information about $(x,y)$ does it provide us? \n",
    "<font color='#85929E'> It means $(x,y)$ lies on the line $-x+y=2$, because $-x+y=2$ when $s_3=0$. Mathematically, we call the constraint $-x+y\\leq2$ is *tight* at $(-2,0)$ when $(-2,0)$ lies on the corresponding line. </font>\n",
    "\n",
    "#### Q: In the basic solution of the last tableau, $s_3=0$ and  $y=0$. What information about $(x,y)$ do they provide us? \n",
    "<font color='#85929E'> $(x,y)$ is at the intersection of the line $-x+y=2$ and $y=0$. </font>\n",
    "\n",
    "We can verify our answers by graphing it out. $(x,y)$ is indeed at the intersection of the two lines $-x+y=2$ and $y=0$."
   ]
  },
  {
   "cell_type": "code",
   "execution_count": 8,
   "id": "21b0b82d",
   "metadata": {},
   "outputs": [
    {
     "data": {
      "image/png": "[encoded data removed]",
      "text/plain": [
       "<Figure size 432x432 with 1 Axes>"
      ]
     },
     "metadata": {
      "needs_background": "light"
     },
     "output_type": "display_data"
    }
   ],
   "source": [
    "plotLP(Lp1, x_lower=-3, x_upper=8, y_lower=-1, y_upper=8)\n",
    "plotVert(T1, past_T=[T0], x_col_num=3, y_col_num=4)"
   ]
  },
  {
   "cell_type": "markdown",
   "id": "cfb06994",
   "metadata": {},
   "source": [
    "#### Q: How can you produce the tableau corresponding to the point $(4,6)$ in the graph?\n",
    "\n",
    "- <font color='#85929E'>$(4,6)$ is the intersection of $x=4$ and $-x+y=2$. \n",
    "- <font color='#85929E'>Both constraints $x\\leq4$ and $-x+y\\leq2$ are tight at $(4,6)$. Their corresponding slack variables must be 0, so $s_1=0$, $s_3=0$.\n",
    "- <font color='#85929E'>$s_1, s_3$ must leave the basis. We need another two variables to enter the basis, which are $x$ and $y$ here.\n",
    "- <font color='#85929E'>Then we can pivot on the corresponding entries to change the basis.\n"
   ]
  },
  {
   "cell_type": "code",
   "execution_count": 9,
   "id": "8132eac3",
   "metadata": {},
   "outputs": [
    {
     "name": "stdout",
     "output_type": "stream",
     "text": [
      " [  s1      s2      s3       x       y       1   ]\n",
      "[[   1       0       0       1       0       4   ]\n",
      " [   0       1       0       0       1       4   ]\n",
      " [   0       0       1      -1       1       2   ]]\n"
     ]
    }
   ],
   "source": [
    "# Original tableau\n",
    "print(\"\", header1)\n",
    "print(T0)"
   ]
  },
  {
   "cell_type": "code",
   "execution_count": 10,
   "id": "57bc15be",
   "metadata": {},
   "outputs": [
    {
     "name": "stdout",
     "output_type": "stream",
     "text": [
      " [  s1      s2      s3       x       y       1   ]\n",
      "[[   1       0       0       1       0       4   ]\n",
      " [   0       1       0       0       1       4   ]\n",
      " [   1       0       1       0       1       6   ]]\n"
     ]
    }
   ],
   "source": [
    "# Step 1: x enters the basis, s1 leaves the basis\n",
    "T2 = pivot(T0,0,3)\n",
    "print(\"\", header1)\n",
    "print(T2)"
   ]
  },
  {
   "cell_type": "code",
   "execution_count": 11,
   "id": "6e8a5496",
   "metadata": {},
   "outputs": [
    {
     "name": "stdout",
     "output_type": "stream",
     "text": [
      " [  s1      s2      s3       x       y       1   ]\n",
      "[[   1       0       0       1       0       4   ]\n",
      " [  -1       1      -1       0       0      -2   ]\n",
      " [   1       0       1       0       1       6   ]]\n"
     ]
    }
   ],
   "source": [
    "# Step 2: y enters the basis, s3 leaves the basis\n",
    "T3 = pivot(T2,2,4)\n",
    "print(\"\", header1)\n",
    "print(T3)"
   ]
  },
  {
   "cell_type": "code",
   "execution_count": 12,
   "id": "9755eab0",
   "metadata": {},
   "outputs": [
    {
     "data": {
      "image/png": "[encoded data removed]",
      "text/plain": [
       "<Figure size 432x432 with 1 Axes>"
      ]
     },
     "metadata": {
      "needs_background": "light"
     },
     "output_type": "display_data"
    }
   ],
   "source": [
    "plotLP(Lp1, x_lower=-3, x_upper=8, y_lower=-1, y_upper=8)\n",
    "plotVert(T3, past_T=[T0, T2], x_col_num=3, y_col_num=4)"
   ]
  },
  {
   "cell_type": "markdown",
   "id": "ea3b9b6f",
   "metadata": {},
   "source": [
    "#### Q: Does the order of entering and leaving the basis matter?\n",
    "<font color='#85929E'> It will only affect how we get there. The \"final destination\" won't change. </font>\n"
   ]
  },
  {
   "cell_type": "code",
   "execution_count": 13,
   "id": "f0a232f5",
   "metadata": {},
   "outputs": [
    {
     "name": "stdout",
     "output_type": "stream",
     "text": [
      " [  s1      s2      s3       x       y       1   ]\n",
      "[[   1       0       0       1       0       4   ]\n",
      " [   0       1       0       0       1       4   ]\n",
      " [   0       0       1      -1       1       2   ]]\n"
     ]
    }
   ],
   "source": [
    "# Original tableau\n",
    "print(\"\", header1)\n",
    "print(T0)"
   ]
  },
  {
   "cell_type": "code",
   "execution_count": 14,
   "id": "216b5259",
   "metadata": {},
   "outputs": [
    {
     "name": "stdout",
     "output_type": "stream",
     "text": [
      " [  s1      s2      s3       x       y       1   ]\n",
      "[[   1       0       1       0       1       6   ]\n",
      " [   0       1       0       0       1       4   ]\n",
      " [  -0      -0      -1       1      -1      -2   ]]\n"
     ]
    }
   ],
   "source": [
    "# Step 1: x enters the basis, s3 leaves the basis\n",
    "T4 = pivot(T0,2,3)\n",
    "print(\"\", header1)\n",
    "print(T4)"
   ]
  },
  {
   "cell_type": "code",
   "execution_count": 15,
   "id": "9e3f5c9c",
   "metadata": {},
   "outputs": [
    {
     "name": "stdout",
     "output_type": "stream",
     "text": [
      " [  s1      s2      s3       x       y       1   ]\n",
      "[[   1       0       1       0       1       6   ]\n",
      " [  -1       1      -1       0       0      -2   ]\n",
      " [   1       0       0       1       0       4   ]]\n"
     ]
    }
   ],
   "source": [
    "# Step 2: y enters the basis, s1 leaves the basis\n",
    "T5 = pivot(T4,0,4)\n",
    "print(\"\", header1)\n",
    "print(T5)"
   ]
  },
  {
   "cell_type": "code",
   "execution_count": 16,
   "id": "9602da0b",
   "metadata": {},
   "outputs": [
    {
     "data": {
      "image/png": "[encoded data removed]",
      "text/plain": [
       "<Figure size 432x432 with 1 Axes>"
      ]
     },
     "metadata": {
      "needs_background": "light"
     },
     "output_type": "display_data"
    }
   ],
   "source": [
    "plotLP(Lp1, x_lower=-3, x_upper=8, y_lower=-1, y_upper=8)\n",
    "plotVert(T5, past_T=[T0, T4], x_col_num=3, y_col_num=4)"
   ]
  },
  {
   "cell_type": "markdown",
   "id": "4bf80431",
   "metadata": {},
   "source": [
    "In the tableau above, the basic solution is $(s_1, s_2, s_3, x, y) = (0, -2, 0, 4, 0)$, where $s_2=-2<0$.\n",
    "\n",
    "#### Q: What does it mean when a slack variable $s_i<0$?\n",
    "<font color='#85929E'> It means the i-th constraint is violated. In the tableau above, $s_2=-2<0$. In the corresponding linear equation $y+s_2=4$. If $s_2<0$, $y=4-s_2>4$ , violating the constraint. </font>\n"
   ]
  },
  {
   "cell_type": "markdown",
   "id": "b8a4380d",
   "metadata": {},
   "source": [
    "### Part 4: Pivoting Rules\n",
    "We want to determine a sequence of *feasible* tableaus. Here are the rules that we can follow:\n",
    "- Choose the column $j$ s.t. $\\exists i\\in \\{1,\\dots,m\\}$ with $a_{i,j}>0$.\n",
    "- Choose the row $i$ according to the quotient rule / ratio test, where $\\frac{b_i}{a_{i,j}}$ is the smallest among $a_{i,j}>0, i\\in \\{1,\\dots,m\\}$."
   ]
  },
  {
   "cell_type": "code",
   "execution_count": 17,
   "id": "92c54704",
   "metadata": {},
   "outputs": [
    {
     "name": "stdout",
     "output_type": "stream",
     "text": [
      " [  s1      s2      s3       x       y       1   ]\n",
      "[[   1       0       0       1       0       4   ]\n",
      " [   0       1       0       0       1       4   ]\n",
      " [   0       0       1      -1       1       2   ]]\n"
     ]
    }
   ],
   "source": [
    "# Original tableau\n",
    "print(\"\", header1)\n",
    "print(T0)"
   ]
  },
  {
   "cell_type": "markdown",
   "id": "c8336d4a",
   "metadata": {},
   "source": [
    "#### Q: Which column can be a pivot column for the above tableau if we want to stay in the feasible region?\n",
    "<font color='#85929E'> Both $x$ and $y$ are ok. </font>\n",
    "\n",
    "#### Q: For column $y$, which pivot row should we choose according to the quotient rule?\n",
    "<font color='#85929E'> The last row, because $2/1 < 4/1$. The code below demonstrates why we should pick the smaller ratio.</font>"
   ]
  },
  {
   "cell_type": "code",
   "execution_count": 18,
   "id": "994c9167",
   "metadata": {},
   "outputs": [
    {
     "name": "stdout",
     "output_type": "stream",
     "text": [
      " [  s1      s2      s3       x       y       1   ]\n",
      "[[   1       0       0       1       0       4   ]\n",
      " [   0       1      -1       1       0       2   ]\n",
      " [   0       0       1      -1       1       2   ]]\n"
     ]
    }
   ],
   "source": [
    "# Pivot on column y, last row: all entries in the last column b >= 0, tableau feasible.\n",
    "T6 = pivot(T0,2,4)\n",
    "print(\"\", header1)\n",
    "print(T6)"
   ]
  },
  {
   "cell_type": "code",
   "execution_count": 19,
   "id": "48c777ba",
   "metadata": {},
   "outputs": [
    {
     "name": "stdout",
     "output_type": "stream",
     "text": [
      " [  s1      s2      s3       x       y       1   ]\n",
      "[[   1       0       0       1       0       4   ]\n",
      " [   0       1       0       0       1       4   ]\n",
      " [   0      -1       1      -1       0      -2   ]]\n"
     ]
    }
   ],
   "source": [
    "# Pivot on column y, second last row: last entry in the column b < 0, tableau infeasible.\n",
    "T7 = pivot(T0,1,4)\n",
    "print(\"\", header1)\n",
    "print(T7)"
   ]
  },
  {
   "cell_type": "markdown",
   "id": "1af064bc",
   "metadata": {},
   "source": [
    "### Part 5: Objective Function\n",
    "Let's now bring in the objective row: $z=x$, or $z-x=0$.\n",
    "\n",
    "$$\\begin{equation}\n",
    "\\begin{array}{r|rrrrr|r}\n",
    "  z & s_1 & s_2 & s_3 & x & y & 1 \\\\ \\hline\n",
    "  1 &  0  &  0  &  0  &-1 & -5 & 0 \\\\ \\hline\n",
    "  0 &  1  &  0  &  0  & 1 & 0 & 4 \\\\\n",
    "  0 &  0  &  1  &  0  & 0 & 1 & 4 \\\\\n",
    "  0 &  0  &  0  &  1  &-1 & 1 & 2\n",
    "\\end{array}\n",
    "\\end{equation}$$"
   ]
  },
  {
   "cell_type": "code",
   "execution_count": 20,
   "id": "b8b5a38f",
   "metadata": {},
   "outputs": [
    {
     "name": "stdout",
     "output_type": "stream",
     "text": [
      " [   z      s1      s2      s3       x       y       1   ]\n",
      "[[   1       0       0       0      -1       0       0   ]\n",
      " [   0       1       0       0       1       0       4   ]\n",
      " [   0       0       1       0       0       1       4   ]\n",
      " [   0       0       0       1      -1       1       2   ]]\n"
     ]
    }
   ],
   "source": [
    "T0_obj = np.matrix([\n",
    "    [1, 0, 0, 0, -1, 0, 0],\n",
    "    [0, 1, 0, 0,  1, 0, 4],\n",
    "    [0, 0, 1, 0,  0, 1, 4],\n",
    "    [0, 0, 0, 1, -1, 1, 2]\n",
    "],dtype=float)\n",
    "\n",
    "header1_obj = np.array(['z','s1','s2','s3','x','y','1']) \n",
    "\n",
    "print(\"\", header1_obj)\n",
    "print(T0_obj)"
   ]
  },
  {
   "cell_type": "markdown",
   "id": "12041252",
   "metadata": {},
   "source": [
    "#### Q: How to choose the pivot column to achieve the largest *marginal* increase?\n",
    "<font color='#85929E'> Choose the most negative element in the first row. </font>\n",
    "\n",
    "#### Q: Will such a choice guarantee the largest increase in the objective value?\n",
    "<font color='#85929E'> Not necessarily. The total amount of increase depends on both the number in the objective row and the value of the variable (from the basic solution of the tableau after the pivoting step). </font>"
   ]
  },
  {
   "cell_type": "code",
   "execution_count": 21,
   "id": "59626c10",
   "metadata": {},
   "outputs": [
    {
     "name": "stdout",
     "output_type": "stream",
     "text": [
      " [   z      s1      s2      s3       x       y       1   ]\n",
      "[[   1       1       0       0       0       0       4   ]\n",
      " [   0       1       0       0       1       0       4   ]\n",
      " [   0       0       1       0       0       1       4   ]\n",
      " [   0       1       0       1       0       1       6   ]]\n"
     ]
    }
   ],
   "source": [
    "T1_obj = pivot(T0_obj,1,4)\n",
    "print(\"\", header1_obj)\n",
    "print(T1_obj)"
   ]
  },
  {
   "cell_type": "markdown",
   "id": "2d3fa97f",
   "metadata": {},
   "source": [
    "#### Q: Is this tableau optimal?\n",
    "<font color='#85929E'> Yes, because all entries in the first row are non-negative. Here, we have $z+s_1=4$, or $z=4-s_1$. If $s_1\\geq 0$ take any other values other than $0$, the value of $z$ will decrease. </font>\n",
    "\n",
    "#### Q: What is the corresponding basic solution and the value of the objective?\n",
    "$(s_1, s_2, s_3, x, y) = $  <font color='#85929E'> $(0,4,6,4,0)$ with $z=4$. </font>\n",
    "\n",
    "#### Q: Is this the only optimal solution to the LP?\n",
    " <font color='#85929E'> Not necessarily. Let's try another pivot step below. </font>"
   ]
  },
  {
   "cell_type": "code",
   "execution_count": 22,
   "id": "58a722e7",
   "metadata": {},
   "outputs": [
    {
     "name": "stdout",
     "output_type": "stream",
     "text": [
      " [   z      s1      s2      s3       x       y       1   ]\n",
      "[[   1       1       0       0       0       0       4   ]\n",
      " [   0       1       0       0       1       0       4   ]\n",
      " [   0       0       1       0       0       1       4   ]\n",
      " [   0       1      -1       1       0       0       2   ]]\n"
     ]
    }
   ],
   "source": [
    "T2_obj = pivot(T1_obj,2,5)\n",
    "print(\"\", header1_obj)\n",
    "print(T2_obj)"
   ]
  },
  {
   "cell_type": "markdown",
   "id": "a3a5400e",
   "metadata": {},
   "source": [
    "#### Q: Is this tableau optimal?\n",
    "<font color='#85929E'> Yes, because all entries in the first row are non-negative. </font>\n",
    "\n",
    "#### Q: How do we interpret the results?\n",
    "<font color='#85929E'>  The basic solutions of these two tableaus correpond to the points $(4,0)$ and $(4,4)$ on the x-y plane. Both are optimnal, so any points on the line segement between $(4,0)$ and $(4,4)$ are optimal. </font>"
   ]
  },
  {
   "cell_type": "code",
   "execution_count": 23,
   "id": "a748a26b",
   "metadata": {},
   "outputs": [
    {
     "data": {
      "image/png": "[encoded data removed]",
      "text/plain": [
       "<Figure size 432x432 with 1 Axes>"
      ]
     },
     "metadata": {
      "needs_background": "light"
     },
     "output_type": "display_data"
    }
   ],
   "source": [
    "plotLP(Lp1, x_lower=-1, x_upper=8, y_lower=-1, y_upper=8)\n",
    "plotVert(T2_obj, past_T=[T0_obj, T1_obj], x_col_num=4, y_col_num=5)"
   ]
  },
  {
   "cell_type": "code",
   "execution_count": 24,
   "id": "00052c1d",
   "metadata": {},
   "outputs": [
    {
     "name": "stdout",
     "output_type": "stream",
     "text": [
      "Solution obtained with pulp:\n",
      "Objective: 4.0\n",
      "x = 4.0\n",
      "y = 0.0\n"
     ]
    }
   ],
   "source": [
    "Lp1.solve()\n",
    "print(\"Solution obtained with pulp:\")\n",
    "#Print out the optimal objective value of my_lp\n",
    "print(\"Objective: \" + str(Lp1.objective.value()))\n",
    "#Print out optimal vertex.\n",
    "for v in Lp1.variables():\n",
    "    print(str(v) + \" = \" + str(v.value()))\n",
    "# PuLP only gives you one point on the line segement."
   ]
  },
  {
   "cell_type": "markdown",
   "id": "55d87995",
   "metadata": {},
   "source": [
    "### Part 6: Unbounded Tableau"
   ]
  },
  {
   "cell_type": "markdown",
   "id": "772bc896",
   "metadata": {},
   "source": [
    "Let's remove the first constraint $x\\leq4$ in the original LP:\n",
    "$$\\begin{equation}\n",
    "\\begin{array}{llrrrrrrrr}\n",
    "  &\\text{max} \\quad z= &x  &  &      &    &   \\\\\n",
    "  &\\text{s. t.:}    &   &  &y     & \\leq  &4  \\\\\n",
    "  &                 &x  &- &y     & \\geq  &-2 \\\\\n",
    "  &                 &x  &  &      & \\geq  &0  \\\\\n",
    "  &                 &   &  &y     & \\geq  &0  \\\\\n",
    "\\end{array}\n",
    "\\end{equation}$$\n",
    "\n",
    "This LP becomes unbounded, as shown in the graph below:"
   ]
  },
  {
   "cell_type": "code",
   "execution_count": 25,
   "id": "e5c61e5e",
   "metadata": {},
   "outputs": [
    {
     "data": {
      "text/plain": [
       "-2"
      ]
     },
     "execution_count": 25,
     "metadata": {},
     "output_type": "execute_result"
    },
    {
     "data": {
      "image/png": "[encoded data removed]",
      "text/plain": [
       "<Figure size 432x432 with 1 Axes>"
      ]
     },
     "metadata": {
      "needs_background": "light"
     },
     "output_type": "display_data"
    }
   ],
   "source": [
    "Lp2 = pulp.LpProblem(\"My_LP\", pulp.LpMaximize)\n",
    "\n",
    "x = pulp.LpVariable('x', lowBound=0, cat=pulp.LpContinuous)\n",
    "y = pulp.LpVariable('y', lowBound=0, cat=pulp.LpContinuous)\n",
    "\n",
    "Lp2 += x\n",
    "\n",
    "Lp2 += -x + y <= 2\n",
    "Lp2 += y <= 4\n",
    "\n",
    "plotLP(Lp2, x_lower=-3, x_upper=8, y_lower=-1, y_upper=8)\n",
    "\n",
    "Lp2.solve()"
   ]
  },
  {
   "cell_type": "markdown",
   "id": "befe59c9",
   "metadata": {},
   "source": [
    "The corresponding tableau with the objective function is as follows:"
   ]
  },
  {
   "cell_type": "code",
   "execution_count": 26,
   "id": "b1b5726f",
   "metadata": {},
   "outputs": [
    {
     "name": "stdout",
     "output_type": "stream",
     "text": [
      " [   z      s1      s2       x       y       1   ]\n",
      "[[   1       0       0      -1       0       0   ]\n",
      " [   0       1       0       0       1       4   ]\n",
      " [   0       0       1      -1       1       2   ]]\n"
     ]
    }
   ],
   "source": [
    "U0 = np.matrix([\n",
    "    [1, 0, 0, -1, 0, 0],\n",
    "    [0, 1, 0,  0, 1, 4],\n",
    "    [0, 0, 1, -1, 1, 2]\n",
    "],dtype=float)\n",
    "\n",
    "header2 = np.array(['z','s1','s2','x','y','1']) \n",
    "\n",
    "print(\"\", header2)\n",
    "print(U0)"
   ]
  },
  {
   "cell_type": "markdown",
   "id": "31e159f5",
   "metadata": {},
   "source": [
    "#### Q: Can we carry out a ratio test with $x$ as the entering variable?\n",
    "<font color='#85929E'> No, because there are no positive entries in column $x$. We should stop here. </font>\n",
    "\n",
    "#### Q: How can we tell that the LP is unbounded from the tableau?\n",
    "<font color='#85929E'> Because in the first row $a_{0,x} = -1 < 0$, and every other entry in column $x$ are $\\leq 0$. </font>\n",
    "\n",
    "#### Q: Why is that?\n",
    "<font color='#85929E'> We can express the dependent variables as a function of the independent variables: $s_1 = 4 - y$, and $s_2 = 2 + x - y$. The objective function is $z = x$.\n",
    "\n",
    "If we set $y=0, x=\\delta$, then we have $s_1 = 4$ and $s_2 = 2 + \\delta$. The solution $(s_1, s_2, x, y) = (4, 2 + \\delta, \\delta, 0)$ is always feasible for any non-negative $\\delta$.\n",
    "\n",
    "This solution has a corresponding objective-function value of $z = x = \\delta$. We can always increase $\\delta$ further, so this problem is unbounded. </font>\n",
    "\n",
    "#### Q: Can we try pivoting on this tableau (even though we shuold stop according to the algorithm)?\n",
    "<font color='#85929E'> We can of course try pivoting on this tableau, but we will probably get \"stuck\" again soon, as demonstrated below. </font>"
   ]
  },
  {
   "cell_type": "code",
   "execution_count": 27,
   "id": "e821bed3",
   "metadata": {},
   "outputs": [
    {
     "name": "stdout",
     "output_type": "stream",
     "text": [
      " [   z      s1      s2       x       y       1   ]\n",
      "[[   1       0       0      -1       0       0   ]\n",
      " [   0       1      -1       1       0       2   ]\n",
      " [   0       0       1      -1       1       2   ]]\n"
     ]
    }
   ],
   "source": [
    "# y enters the basis, s2 leaves\n",
    "U1 = pivot(U0,2,4)\n",
    "print(\"\", header2)\n",
    "print(U1)"
   ]
  },
  {
   "cell_type": "code",
   "execution_count": 28,
   "id": "ee219561",
   "metadata": {},
   "outputs": [
    {
     "name": "stdout",
     "output_type": "stream",
     "text": [
      " [   z      s1      s2       x       y       1   ]\n",
      "[[   1       1      -1       0       0       2   ]\n",
      " [   0       1      -1       1       0       2   ]\n",
      " [   0       1       0       0       1       4   ]]\n"
     ]
    }
   ],
   "source": [
    "# x enters the basis, s1 leaves\n",
    "U2 = pivot(U1,1,3)\n",
    "print(\"\", header2)\n",
    "print(U2)"
   ]
  },
  {
   "cell_type": "code",
   "execution_count": 29,
   "id": "c348c37d",
   "metadata": {},
   "outputs": [
    {
     "data": {
      "image/png": "[encoded data removed]",
      "text/plain": [
       "<Figure size 432x432 with 1 Axes>"
      ]
     },
     "metadata": {
      "needs_background": "light"
     },
     "output_type": "display_data"
    }
   ],
   "source": [
    "plotLP(Lp2, x_lower=-3, x_upper=8, y_lower=-1, y_upper=8)\n",
    "plotVert(U2, past_T=[U0, U1], x_col_num=3, y_col_num=4)"
   ]
  },
  {
   "cell_type": "markdown",
   "id": "eb5dc7b2",
   "metadata": {},
   "source": [
    "## Part 7: Summary"
   ]
  },
  {
   "cell_type": "markdown",
   "id": "9a07a22e",
   "metadata": {},
   "source": [
    "### How to read tableaus?\n",
    "- Tableau feasible: no negative entries in the last column $b$ $\\Leftrightarrow$ Basic solution feasible for the LP\n",
    "- Tableau infeasible: one or more entries in column $b$ is negative $\\Leftrightarrow$ Basic solution infeasible for the LP\n",
    "- Tableau optimal: the objective row has no negative entries $\\Leftrightarrow$ Basic solution optimal for the LP\n",
    "- Tableau unbounded: there exists one column $j$ where the entry in the objective row $a_{0,j}<0$ AND all other entries in this column are non-positive, i.e.  $a_{i,j}\\leq0 \\quad \\forall i={1,2,\\dots,m}$. \n",
    "\n",
    "Tableau and its basic solution has a 1-to-1 relationship (except in the unbounded case - \"unbounded basic solution\" is not a term.)\n",
    "\n",
    "### Tableaus and LPs\n",
    "Feasibility: <br>\n",
    "- Tableau infeasible $\\Leftarrow$ LP infeasible\n",
    "- Tableau feasible $\\Rightarrow$ LP feasible\n",
    "- Tableau infeasible $\\nRightarrow$ LP infeasible: The basic solution represents **one point** on the hyperplane. A point being infeasible means it is outside the feasible region of the LP, and it does not necessarily imply that the feasible region of the LP is empty.\n",
    "\n",
    "Optimality: <br>\n",
    "- Tableau optimal $\\Leftrightarrow$ LP optimal: When a tableau is optimal, it means its corresponding basic solution maximizes the objective value, hence the LP is also optimal. There might be more than optimal tableaus for the same LP.\n",
    "\n",
    "Unbounded: <br>\n",
    "- Tableau unbounded $\\Rightarrow$ LP unbounded\n",
    "- Tableau unbounded $\\nLeftarrow$ LP unbounded: see our example above.\n",
    "\n",
    "### What about feasibility for LP?\n",
    "- LP feasible $\\Leftrightarrow$ Feasible region not empty\n",
    "- LP infeasible $\\Leftrightarrow$ Feasible region empty\n",
    "- LP unbounded $\\Rightarrow$ Feasible region unbounded\n",
    "- LP unbounded $\\nLeftarrow$ Feasible region unbounded. An LP may have an optimal solution even though its feasible region is unbounded. In the example above, if we are maximizing $-x$, or minimizing $x$, then the LP is not unbounded and would have an optimal solution."
   ]
  }
 ],
 "metadata": {
  "kernelspec": {
   "display_name": "Python 3",
   "language": "python",
   "name": "python3"
  },
  "language_info": {
   "codemirror_mode": {
    "name": "ipython",
    "version": 3
   },
   "file_extension": ".py",
   "mimetype": "text/x-python",
   "name": "python",
   "nbconvert_exporter": "python",
   "pygments_lexer": "ipython3",
   "version": "3.8.8"
  }
 },
 "nbformat": 4,
 "nbformat_minor": 5
}
