{
 "cells": [
  {
   "cell_type": "markdown",
   "id": "9cfc39f7-fa12-41bd-b3a5-241c03f1ce38",
   "metadata": {},
   "source": [
    "# Programming Exercise Week 10: Introduction to `networkx`\n",
    "\n",
    "<font color='blue'><b>Goals of this notebook:</b></font> Create and draw undirected graphs using `networkx`.\n",
    "\n",
    "<font color='blue'><b>Python packages required:</b></font>\n",
    "`networkx`\n",
    "\n",
    "<font color='blue'><b>Additional resources:</b></font> \n",
    "- For more on NetworkX including examples and tutorials, see https://networkx.github.io/documentation/stable/.\n",
    "- For more on graph drawing, see https://networkx.github.io/documentation/stable/reference/drawing.html.\n",
    "- For a list of algorithms supported by `networkx`, see https://networkx.github.io/documentation/stable/reference/algorithms/index.html.\n",
    "\n",
    "<font color='blue'><b>Your tasks:</b></font> \n",
    "- Task 1: Finding triangles in a graph\n",
    "- Task 2: Representing the relationship between friends\n",
    "\n",
    "## Part 1: Creating Graphs\n",
    "\n",
    "Graphs are ways of representing relationships between objects. A graph consists of two components: a set of nodes (also known as vertices) and a set of edges that connect the nodes. \n",
    "\n",
    "We can build graphs in Python in three steps:\n",
    "1. <b>Import Python's toolbox for graphs.</b> This toolbox is called `networkx`. \n",
    "2. <b>Create an empty graph.</b> An empty graph is a graph containing no nodes or edges.\n",
    "3. <b>Add nodes and edges.</b>\n",
    "\n",
    "Let's use the the following example to demonstrate <b>Steps 1-3</b>.\n",
    "\n",
    "$$\n",
    "\\begin{array}{rcl}\n",
    "\\text{Nodes} &=& \\{1, 2, \\dotsc, 7\\}\\\\\n",
    "\\text{Edges} &=&\\{\\{i,j\\} : ~~ |i - j| \\equiv 1\\pmod{5} ~~\\text{or} ~~ |i - j| \\equiv 2\\pmod{5}\\}.\n",
    "\\end{array}\n",
    "$$\n",
    "\n",
    "_Note:_ We can label each node with anything we like, e.g., a number, a letter, or a name.\n",
    "\n",
    "### Step 1: Loading NetworkX\n",
    "\n",
    "The first step is to load `networkx` using the command below."
   ]
  },
  {
   "cell_type": "code",
   "execution_count": 1,
   "id": "09d1f142-b5fe-4b7b-a722-86b8895ca3c6",
   "metadata": {},
   "outputs": [],
   "source": [
    "# Load networkx\n",
    "import networkx as nx"
   ]
  },
  {
   "cell_type": "markdown",
   "id": "0a9d3a02-1c69-45b6-828f-7a3109df93a5",
   "metadata": {},
   "source": [
    "### Step 2: Creating an empty graph\n",
    "\n",
    "After loading `networkx`, we can create an empty graph named `G` using the line of code below. Feel free to replace `G` with the name that you want for your graph."
   ]
  },
  {
   "cell_type": "code",
   "execution_count": 2,
   "id": "4c67569d-7602-4c18-be22-547e93554b54",
   "metadata": {},
   "outputs": [],
   "source": [
    "# Create an empty graph\n",
    "G = nx.Graph()"
   ]
  },
  {
   "cell_type": "markdown",
   "id": "dfdadcea-c1dd-44bc-a9ec-7658ebf1f7eb",
   "metadata": {},
   "source": [
    "### Step 3: Adding nodes and edges \n",
    "#### Adding nodes\n",
    "\n",
    "There are many ways to add nodes to `G`.\n",
    "We add the node labeled `v` to `G` using the command `G.add_node(v)`.\n",
    "We can view the nodes of `G` using the command `G.nodes`.\n",
    "Run the following to add node labeled `1` and print the node list. "
   ]
  },
  {
   "cell_type": "code",
   "execution_count": 3,
   "id": "0db5e97a-2c72-4ef9-8d11-a2767ef13632",
   "metadata": {},
   "outputs": [
    {
     "name": "stdout",
     "output_type": "stream",
     "text": [
      "The nodes of G are [1].\n"
     ]
    }
   ],
   "source": [
    "# Add one node to G\n",
    "G.add_node(1)\n",
    "\n",
    "# Print the node list\n",
    "print(f'The nodes of G are {G.nodes}.')"
   ]
  },
  {
   "cell_type": "markdown",
   "id": "35e83498-96e9-431e-92b5-8077d9269687",
   "metadata": {},
   "source": [
    "We can add multiple nodes using the command `G.add_nodes_from()`.\n",
    "If we want to add nodes `2,3,4,5` to `G`, then we can use the command `G.add_nodes_from([2,3,4,5])`. \n",
    "\n",
    "Here, the input to the function `[2,3,4,5]` is a Python list. Since `[2,3,4,5]` is equivalent to `range(2,6)`, the command `G.add_nodes_from(range(2,6))` will yield the same results."
   ]
  },
  {
   "cell_type": "code",
   "execution_count": 4,
   "id": "6e085321-7a27-4c77-9e39-46d03feb8645",
   "metadata": {},
   "outputs": [
    {
     "name": "stdout",
     "output_type": "stream",
     "text": [
      "The nodes of G are [1, 2, 3, 4, 5].\n"
     ]
    }
   ],
   "source": [
    "# Add multiple nodes to G\n",
    "G.add_nodes_from([2,3,4,5])\n",
    "\n",
    "# Print the nodes\n",
    "print(f'The nodes of G are {G.nodes}.')"
   ]
  },
  {
   "cell_type": "markdown",
   "id": "1d069be3-89d2-4cc9-8aa6-7f139733e265",
   "metadata": {},
   "source": [
    "A third way to add a node is to add an edge containing the node. Notice that the last two nodes that we need to add, `6` and `7`, form an edge in `G`. We will add these two nodes by adding an edge as described in the section below.\n",
    "\n",
    "#### Adding edges\n",
    "We can add one edge at a time using the command `G.add_edge()` with the two nodes of the edge inserted in the bracket. Therefore, the command `G.add_edge(6,7)` will add the nodes `6` and `7` <i>and</i> add the edge `(6,7)`.\n",
    "\n",
    "We can access the current edge list using the command `G.edges`."
   ]
  },
  {
   "cell_type": "code",
   "execution_count": 5,
   "id": "05918377-ba93-4b2a-9c25-fd877b2f10a1",
   "metadata": {},
   "outputs": [
    {
     "name": "stdout",
     "output_type": "stream",
     "text": [
      "The nodes of G are [1, 2, 3, 4, 5, 6, 7].\n",
      "The edges of G are [(6, 7)].\n"
     ]
    }
   ],
   "source": [
    "# Add nodes to G by adding an edge\n",
    "G.add_edge(6,7)\n",
    "\n",
    "# Print the nodes\n",
    "print(f'The nodes of G are {G.nodes}.')\n",
    "\n",
    "# Print the edges\n",
    "print(f'The edges of G are {G.edges}.')"
   ]
  },
  {
   "cell_type": "markdown",
   "id": "7b507b69-f8a7-4e69-8f1c-5d85eed309af",
   "metadata": {},
   "source": [
    "We can also add multiple edges at once using the command `G.add_edges_from()` with the edges inserted in `()` in a list. For example, the command `G.add_edges_from([(1,2), (2,3), (3,4), (4,5)])` will add the edges `(1,2), (2,3), (3,4)` and `(4,5)` to `G`."
   ]
  },
  {
   "cell_type": "code",
   "execution_count": 6,
   "id": "af4d5a3a-1285-442c-be31-49b5f680925d",
   "metadata": {},
   "outputs": [
    {
     "name": "stdout",
     "output_type": "stream",
     "text": [
      "The edges of G are [(1, 2), (2, 3), (3, 4), (4, 5), (6, 7)].\n"
     ]
    }
   ],
   "source": [
    "# Add multiple edges\n",
    "G.add_edges_from([(1,2), (2,3), (3,4), (4,5)])\n",
    "\n",
    "# Print the edges\n",
    "print(f'The edges of G are {G.edges}.')"
   ]
  },
  {
   "cell_type": "markdown",
   "id": "28fae29c-bc5a-4dab-aefd-65668d48b43f",
   "metadata": {},
   "source": [
    "#### Removing nodes and edges\n",
    "It is important to know that we can also remove nodes and edges from a graph. The commands to remove a node and an edge from `G` are `G.remove_node()` and `G.remove_edge()` respectively. For example, the command `G.remove_edge(1, 2)` removes the edge `(1,2)` from `G`.\n",
    "\n",
    "We can also use the commands `G.remove_nodes_from()` and `G.remove_edges_from()`, where the input in the bracket is a list of nodes or edges.\n",
    "\n",
    "The code below demonstrates how to remove the edge `(1, 2)` from `G`."
   ]
  },
  {
   "cell_type": "code",
   "execution_count": 7,
   "id": "36a6e490-1115-4c65-bf98-2e063c3ff1b7",
   "metadata": {},
   "outputs": [
    {
     "name": "stdout",
     "output_type": "stream",
     "text": [
      "The edges of G are [(2, 3), (3, 4), (4, 5), (6, 7)].\n"
     ]
    }
   ],
   "source": [
    "# Removing the edge (1, 2) from G\n",
    "G.remove_edge(1, 2)\n",
    "\n",
    "#Print the edges\n",
    "print(f'The edges of G are {G.edges}.')"
   ]
  },
  {
   "cell_type": "markdown",
   "id": "c7ac7164-26d2-478f-95b6-66dedb2a5fcc",
   "metadata": {},
   "source": [
    "#### Iterating through all nodes and edges\n",
    "\n",
    "We can add the remaining edges of `G` by looping through all nodes and checking if they form an edge of `G`. We can loop through the nodes of `G` using `for i in G.nodes`."
   ]
  },
  {
   "cell_type": "code",
   "execution_count": 8,
   "id": "6f871ceb-29b2-4b6c-863e-1b69d43e9a10",
   "metadata": {},
   "outputs": [
    {
     "name": "stdout",
     "output_type": "stream",
     "text": [
      "The edges of G are [(1, 2), (1, 3), (1, 7), (2, 3), (2, 4), (3, 4), (3, 5), (4, 5), (4, 6), (5, 6), (5, 7), (6, 7)].\n"
     ]
    }
   ],
   "source": [
    "# Create the remaining edges of G\n",
    "for i in G.nodes:\n",
    "    for j in G.nodes:\n",
    "        if abs(i-j) % 5 == 1 or abs(i-j) % 5 == 2 :\n",
    "            G.add_edge(i,j)\n",
    "            \n",
    "# Print the edges\n",
    "print(f'The edges of G are {G.edges}.')"
   ]
  },
  {
   "cell_type": "markdown",
   "id": "1c4f78ee-dcb6-47c6-8047-e34a92443b0f",
   "metadata": {},
   "source": [
    "_Note:_ The Python package `itertools` allows us to quickly loop over tuples of a set.\n",
    "As an example, the double loop above could be replaced by\n",
    "\n",
    "    from itertools import combinations\n",
    "\n",
    "    for pair in combinations(G.nodes,2):\n",
    "        if abs(pair[0]-pair[1]) % 5 == 1 or abs(pair[0]-pair[1]) % 5 == 2:\n",
    "            G.add_edge(pair[0], pair[1])\n",
    "\n",
    "The previous code loops through all `combinations` of `G.nodes` of size `2`. \n",
    "\n",
    "Congratulations! You have succesfully created a graph using `networkx`. \n",
    "\n",
    "We can now examine the nodes and edges of `G`. Your first task below is to search for triangles in `G`."
   ]
  },
  {
   "cell_type": "markdown",
   "id": "6abd0762-9424-4c35-8196-ebf84082442a",
   "metadata": {},
   "source": [
    "### Task 1: Finding triangles in a graph\n",
    "\n",
    "A triangle in a graph is three nodes that are all connected by an edge.\n",
    "One way to check if `G` has a triangle is to check every triple of nodes and see if they are adjacent.\n",
    "\n",
    "The command `(i,j) in G.edges` returns `True` if `(i,j)` is an edge of `G`.\n",
    "\n",
    "**Your task:** check if `G` contains a triangle and print any triangles found."
   ]
  },
  {
   "cell_type": "code",
   "execution_count": 9,
   "id": "2c085089-f433-4d7d-8d6b-6c523d4fa3f9",
   "metadata": {},
   "outputs": [],
   "source": [
    "# Your code for finding triangles in G\n",
    "\n"
   ]
  },
  {
   "cell_type": "markdown",
   "id": "3df5be0e-28ed-4fd7-8393-5963f1b23bda",
   "metadata": {},
   "source": [
    "## Part 2: Drawing graphs\n",
    "\n",
    "It is often helpful for us to visualize a graph. The `networkx` package can be used to plot graphs, although sometimes it is not easy to draw a graph in `networkx` precisely how we want. \n",
    "\n",
    "We can draw `G` using the command `nx.draw(G, with_labels=True, node_color='lightblue')`. There is one mandatory input and many optinonal inputs to this function.\n",
    "\n",
    "- `G` : This is the name of the graph that we want to draw. It is mandatory.\n",
    "\n",
    "- `with_labels = True` : This shows the labels of our nodes. This is an optional input. If we have many nodes, then maybe it is cleaner to remove this input to remove all labels.\n",
    "\n",
    "- `node_color = 'lightblue'`: This adjusts the color of the nodes.\n",
    "\n",
    "_Note_: If you encounter the error `NetworkXError: random_state_index is incorrect` after running the following code, it could be caused by a wrong version of the `decorator` module. Try updating this module to the latest version by using the command `!pip install --upgrade decorator` and then restarting the kernel of this notebook."
   ]
  },
  {
   "cell_type": "code",
   "execution_count": 10,
   "id": "fc5fcaa5-6e8f-40fb-b501-af45ae92b675",
   "metadata": {},
   "outputs": [
    {
     "data": {
      "image/png": "[encoded data removed]",
      "text/plain": [
       "<Figure size 432x288 with 1 Axes>"
      ]
     },
     "metadata": {},
     "output_type": "display_data"
    }
   ],
   "source": [
    "# This magic command is for drawing inline in the Jupyter Notebook. \n",
    "# It needs to be executed only once for the full notebook.\n",
    "%matplotlib inline\n",
    "\n",
    "# Draw G\n",
    "nx.draw(G, with_labels=True, node_color='lightblue')\n",
    "\n",
    "# Note: There might be a deprecation warning appearing; it comes from code in the\n",
    "#    networkx package, so we cannot do much about it."
   ]
  },
  {
   "cell_type": "markdown",
   "id": "ddcc219a-dc92-4a07-baf9-93f79eb3c5a1",
   "metadata": {},
   "source": [
    "One very useful optional input is the position of the nodes. If we do not specify the position, then `nx.draw()` will draw the nodes in different places everytime we run it! You can test this yourself by re-running the previous command.\n",
    " \n",
    "It is useful to fix the positions because we can later use these positions to draw variations of our original graph. These positions can be created manually, but `networkx` has a collection of positions to choose from. The code `node_pos =  nx.circular_layout(G)` chooses the `circular_layout` positioning. We add this positioning to our nodes by adding `pos = node_pos` as an input to the `nx.draw()` command. \n",
    "\n",
    "_Note:_ Some layouts in `networkx` create new positions every time when it is run. Therefore, you should only run these command once and reference the position later using `node_pos`.\n",
    "In this way, it is guaranteed that every time you draw `G`, the nodes will be in the same position."
   ]
  },
  {
   "cell_type": "code",
   "execution_count": 11,
   "id": "d3247301-3970-44cb-af14-354ca8abbcab",
   "metadata": {},
   "outputs": [
    {
     "data": {
      "image/png": "[encoded data removed]",
      "text/plain": [
       "<Figure size 432x288 with 1 Axes>"
      ]
     },
     "metadata": {},
     "output_type": "display_data"
    }
   ],
   "source": [
    "# Fix the position of the nodes\n",
    "node_pos = nx.circular_layout(G)\n",
    "\n",
    "# Draw G with fixed positions\n",
    "nx.draw(G, with_labels=True, pos=node_pos, node_color='lightblue')"
   ]
  },
  {
   "cell_type": "markdown",
   "id": "aea1bea9-d214-4574-94b6-1b1738c8f4f4",
   "metadata": {},
   "source": [
    "Good job!\n",
    "At this point, we have seen how to create undirected graphs and draw them.\n",
    "It turns out that we can already run many common graph algorithms with these commands. "
   ]
  },
  {
   "cell_type": "markdown",
   "id": "704694c4-7e6e-46dd-bde8-eb1921c4f860",
   "metadata": {
    "tags": []
   },
   "source": [
    "### Example: Matchings\n",
    "\n",
    "A *matching* is a set of edges of `G` such that no two edges share a node. Out of all matchings in `G`, a *maximum matching* is a matching with the largest number of edges.\n",
    "\n",
    "We can find a maximum matching in a graph using `M = nx.max_weight_matching(G)`. This command returns a set of edges `M` in the maximum matching."
   ]
  },
  {
   "cell_type": "code",
   "execution_count": 12,
   "id": "3066754d-bb82-4f72-9a25-9d8d590c8c58",
   "metadata": {},
   "outputs": [
    {
     "name": "stdout",
     "output_type": "stream",
     "text": [
      "A maximum matching in G is {(2, 3), (6, 7), (4, 5)}.\n"
     ]
    }
   ],
   "source": [
    "# Find a maximum matching in G\n",
    "M = nx.max_weight_matching(G)\n",
    "\n",
    "print(f'A maximum matching in G is {M}.')"
   ]
  },
  {
   "cell_type": "markdown",
   "id": "78c38d13-26c1-4881-bc34-6e40d413d8bb",
   "metadata": {},
   "source": [
    "We can draw `G` with only the edges of `M` by specifying the optional argument `edgelist = M` in the `nx.draw()` command. Note that we use the same node positions as before so that it is easier to compare the graph below with the original one."
   ]
  },
  {
   "cell_type": "code",
   "execution_count": 13,
   "id": "605a4833-3f41-4e7c-8fb2-7540056653a4",
   "metadata": {},
   "outputs": [
    {
     "data": {
      "image/png": "[encoded data removed]",
      "text/plain": [
       "<Figure size 432x288 with 1 Axes>"
      ]
     },
     "metadata": {},
     "output_type": "display_data"
    }
   ],
   "source": [
    "# Draw G with the edges of M\n",
    "nx.draw(G, pos = node_pos , edgelist = M, \n",
    "              with_labels=True, node_color = 'lightblue')"
   ]
  },
  {
   "cell_type": "markdown",
   "id": "57154851-5131-4193-ba33-9f9ac1901851",
   "metadata": {},
   "source": [
    "## Part 3: Labelling graphs\n",
    "\n",
    "In the last section, we introduce how to add labels and attributes to graphs in `networkx`.\n",
    "\n",
    "### Labeling nodes and adding attributes\n",
    "\n",
    "- To add a node with an attribute and a label to `G`, we can use the command `G.add_node(node_label, attribute_name = attribute_value)`.\n",
    "\n",
    "- To add many nodes at once, we can continue using the command `G.add_node_from()` with a slight modification to include their attributes:\n",
    "\n",
    "> `  G.add_nodes_from(\n",
    "       [(node1, {\"attr1_name\": attr1_value1, \"attr2_name\": attr2_value1, ...}), \n",
    "        (node2, {\"attr1_name\": attr1_value2, ...}),...])`\n",
    "\n",
    "- To view a node's attribute, we can using the command `G.nodes[node_label][\"attribute_name\"]`.\n",
    "\n",
    "- To access all of the attributes, we can use `nx.get_node_attributes(G,\"attribute_name\")`.\n",
    "\n",
    "### Labeling edges and adding attributes\n",
    "\n",
    "Adding edge attributes are done in the same way as node attributes except we use the commands `G.add_edge()` and `G.add_edges_from()`.\n",
    "\n",
    "- To add a single edge with attribute, we can use `G.add_edge(\"Node1_label\", \"Node2_label\", attribute_name = attribute_value)`.\n",
    "\n",
    "- To add multiple edges with attributes, we can use\n",
    "\n",
    "> `G.add_edges_from([(\"Node1_label\", \"Node2_label\", {\"attr_name\": attr_value}) , \n",
    "                   (\"Node1_label\", \"Node3_label\", {\"attr_name\": attr_value})])`\n",
    "\n",
    "- To access an edge attribute, we can use the command  `nx.get_edge_attributes(G,\"attribute_name\")`.\n",
    "\n",
    "- To change a value of an edge-attribute, we can use the following command:\n",
    "\n",
    "> `G.edges[(\"Node1_label\",\"Node2_label\")][\"attribute_name\"] = new_attribute_value`\n",
    "\n",
    "### Example: Travel time between Zurich, Bern and Geneva\n",
    "\n",
    "As an example we use the the cities Zurich, Bern and Geneva as nodes and for the edge attributes we use the time it takes to get from one city to the other using the train:"
   ]
  },
  {
   "cell_type": "code",
   "execution_count": 14,
   "id": "051302b9-493e-439a-a493-6efa8cd1c6b4",
   "metadata": {},
   "outputs": [
    {
     "name": "stdout",
     "output_type": "stream",
     "text": [
      "Bern has 0.133 million people.\n",
      "Geneva has 0.198 million people.\n",
      "Zurich has 0.415 million people.\n",
      "The travel times are {('Bern', 'Zurich'): 56, ('Bern', 'Geneva'): 116, ('Geneva', 'Zurich'): 164}.\n",
      "The new travel times are {('Bern', 'Zurich'): 78, ('Bern', 'Geneva'): 116, ('Geneva', 'Zurich'): 164}.\n"
     ]
    },
    {
     "data": {
      "image/png": "[encoded data removed]",
      "text/plain": [
       "<Figure size 432x288 with 1 Axes>"
      ]
     },
     "metadata": {},
     "output_type": "display_data"
    }
   ],
   "source": [
    "# Create an empty graph\n",
    "G = nx.Graph()\n",
    "\n",
    "# Add the nodes\n",
    "G.add_nodes_from([(\"Bern\", {\"population\" : 0.133}),\n",
    "                  (\"Geneva\", {\"population\" : 0.198}),\n",
    "                  (\"Zurich\", {\"population\" : 0.415})])\n",
    "\n",
    "# Print each city's population individually\n",
    "for city in G.nodes:\n",
    "    print(f'{city} has {G.nodes[city][\"population\"]} million people.')\n",
    "\n",
    "# Add the edges\n",
    "G.add_edges_from([(\"Bern\", \"Zurich\", {\"travel_time\": 56}),\n",
    "                  (\"Bern\", \"Geneva\", {\"travel_time\": 116}),\n",
    "                  (\"Geneva\", \"Zurich\", {\"travel_time\": 164})])\n",
    "\n",
    "# Print the edge travel times\n",
    "times = nx.get_edge_attributes(G, \"travel_time\")\n",
    "print(f'The travel times are {times}.')\n",
    "\n",
    "# Update travel time from Bern to Zurich\n",
    "G.edges[(\"Bern\",\"Zurich\")][\"travel_time\"] = 78\n",
    "\n",
    "# Print the new edge travel times\n",
    "times = nx.get_edge_attributes(G, \"travel_time\")\n",
    "print(f'The new travel times are {times}.')\n",
    "\n",
    "# Draw the weighted graph\n",
    "# This command brings the nodes in a circle, which makes it easier to look at\n",
    "node_pos = nx.circular_layout(G)\n",
    "nx.draw(G, with_labels=True, pos=node_pos, node_color = 'lightblue')\n",
    "edge_draw = nx.draw_networkx_edge_labels(G, pos = node_pos, \n",
    "                                         edge_labels = nx.get_edge_attributes(G, 'travel_time'))"
   ]
  },
  {
   "cell_type": "markdown",
   "id": "f113615b",
   "metadata": {},
   "source": [
    "### Task 2: Representing the relationship between friends\n",
    "\n",
    "Recall the following exercise from Problem Set 9: Imagine you want to see a movie at the cinema with friends. You reserved a row with exactly as many seats as needed to fit you and your friends. You get along with all of your friends. However, some of your friends do not get along. You want to find a suitable seating arrangement such that everyone gets a seat and no one sits next to someone they do not get along with.\n",
    "        \n",
    "Suppose that the list of people each person gets along with is as follows (note that some people have no friends other than you):\n",
    "\n",
    "| Your friend | Who they get along with    |\n",
    "|:-----------:|:---------------------------|\n",
    "|Brian        | -                          |\n",
    "|Carol        | Daniel, Linda, Nancy       |\n",
    "|Daniel       | Carol, Linda               |\n",
    "|Helen        | -                          |\n",
    "|Linda        | Carol, Daniel, Mark, Nancy |\n",
    "|Mark         | Linda, Nancy               |\n",
    "|Nancy        | Carol, Linda, Mark, Steven |\n",
    "|Steven       | Nancy                      |\n",
    "\n",
    "Can you represent the relationships between your friends in a graph using `networkx`?"
   ]
  },
  {
   "cell_type": "code",
   "execution_count": 15,
   "id": "82fe27d0",
   "metadata": {},
   "outputs": [],
   "source": [
    "# Your code to draw the graph\n",
    "\n"
   ]
  },
  {
   "cell_type": "markdown",
   "id": "6b73dd63",
   "metadata": {},
   "source": [
    "Imagine that Brian and Steven suddenly start getting along. Can you update the graph?"
   ]
  },
  {
   "cell_type": "code",
   "execution_count": 16,
   "id": "6c2bd0e6",
   "metadata": {},
   "outputs": [],
   "source": [
    "# Your code to update the graph\n",
    "\n"
   ]
  }
 ],
 "metadata": {
  "kernelspec": {
   "display_name": "Python 3",
   "language": "python",
   "name": "python3"
  },
  "language_info": {
   "codemirror_mode": {
    "name": "ipython",
    "version": 3
   },
   "file_extension": ".py",
   "mimetype": "text/x-python",
   "name": "python",
   "nbconvert_exporter": "python",
   "pygments_lexer": "ipython3",
   "version": "3.8.8"
  }
 },
 "nbformat": 4,
 "nbformat_minor": 5
}
