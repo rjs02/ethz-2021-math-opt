{
 "cells": [
  {
   "cell_type": "markdown",
   "source": [
    "# Test Juypter Notebook\r\n",
    "**Wow**, *very* <ins>amazing</ins>\r\n",
    "\r\n",
    "$ \\LaTeX $ \r\n",
    "\r\n",
    "```python\r\n",
    "for i in range(1, 10):\r\n",
    "    print(\"i =\", i)\r\n",
    "```"
   ],
   "metadata": {}
  },
  {
   "cell_type": "code",
   "execution_count": 1,
   "source": [
    "print(\"Hello World\")"
   ],
   "outputs": [
    {
     "output_type": "stream",
     "name": "stdout",
     "text": [
      "Hello World\n"
     ]
    }
   ],
   "metadata": {}
  },
  {
   "cell_type": "code",
   "execution_count": 2,
   "source": [
    "for i in range(1, 10):\r\n",
    "    print(\"i =\", i)"
   ],
   "outputs": [
    {
     "output_type": "stream",
     "name": "stdout",
     "text": [
      "i = 1\n",
      "i = 2\n",
      "i = 3\n",
      "i = 4\n",
      "i = 5\n",
      "i = 6\n",
      "i = 7\n",
      "i = 8\n",
      "i = 9\n"
     ]
    }
   ],
   "metadata": {}
  }
 ],
 "metadata": {
  "orig_nbformat": 4,
  "language_info": {
   "name": "python",
   "version": "3.8.8",
   "mimetype": "text/x-python",
   "codemirror_mode": {
    "name": "ipython",
    "version": 3
   },
   "pygments_lexer": "ipython3",
   "nbconvert_exporter": "python",
   "file_extension": ".py"
  },
  "kernelspec": {
   "name": "python3",
   "display_name": "Python 3.8.8 64-bit ('base': conda)"
  },
  "interpreter": {
   "hash": "0171b244de4482d8783f5077ffb8768e3b91ed0562dc4312064e8d1e340f4238"
  }
 },
 "nbformat": 4,
 "nbformat_minor": 2
}